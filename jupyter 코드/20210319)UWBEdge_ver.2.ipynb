{
 "cells": [
  {
   "cell_type": "code",
   "execution_count": 203,
   "id": "every-foundation",
   "metadata": {},
   "outputs": [],
   "source": [
    "import pandas as pd\n",
    "import numpy as np"
   ]
  },
  {
   "cell_type": "code",
   "execution_count": 204,
   "id": "committed-sullivan",
   "metadata": {},
   "outputs": [],
   "source": [
    "def one_hot_encoding(n, length):\n",
    "    one_hot = [0] * length\n",
    "    one_hot[n] = 1\n",
    "    \n",
    "    return one_hot"
   ]
  },
  {
   "cell_type": "code",
   "execution_count": 205,
   "id": "furnished-religion",
   "metadata": {},
   "outputs": [],
   "source": [
    "def rand_shuffle(data, label):\n",
    "\n",
    "    s = np.arange(data.shape[0])\n",
    "    np.random.shuffle(s)\n",
    "\n",
    "    return data[s], label[s]"
   ]
  },
  {
   "cell_type": "code",
   "execution_count": 206,
   "id": "extra-watershed",
   "metadata": {},
   "outputs": [],
   "source": [
    "def make_valid(data, label):\n",
    "    pivot = round(data.shape[0] * 0.8)\n",
    "    train_data = data[:pivot]\n",
    "    train_label = label[:pivot]\n",
    "    \n",
    "    test_data = data[pivot:]\n",
    "    test_label = label[pivot:]\n",
    "    \n",
    "    return train_data, train_label, test_data, test_label"
   ]
  },
  {
   "cell_type": "code",
   "execution_count": 207,
   "id": "funky-recovery",
   "metadata": {},
   "outputs": [],
   "source": [
    "import glob # 파일의 경로명을 이용하여 파일들의 리스트를 뽑을 때 사용\n",
    "import numpy as np\n",
    "\n",
    "nbin = 40\n",
    "nframe = 2000"
   ]
  },
  {
   "cell_type": "code",
   "execution_count": 386,
   "id": "australian-occasion",
   "metadata": {
    "scrolled": true
   },
   "outputs": [
    {
     "data": {
      "text/plain": [
       "(500, 2000, 40)"
      ]
     },
     "execution_count": 386,
     "metadata": {},
     "output_type": "execute_result"
    }
   ],
   "source": [
    "# None Peapole\n",
    "\n",
    "\n",
    "x_train = np.empty([0,nbin])\n",
    "x_train1 = np.empty([0,nframe,nbin])\n",
    "x_label = []\n",
    "\n",
    "path = r'D:\\study\\DB\\UWB\\alsdream\\ver_1\\None' # r로 시작하는 원시(raw) 문자열을 사용\n",
    "\n",
    "filenames = glob.glob(path + '\\\\'+ \"*.txt\")\n",
    "\n",
    "# 인자로 받은 패턴과 이름이 일치하는 모든 파일과 디렉터리의 리스트를 반환\n",
    "\n",
    "for filename in filenames:\n",
    "\n",
    "    f = open(filename, 'r', errors='ignore')\n",
    "    lines = f.readlines()\n",
    "    line = []\n",
    "    line1 = []\n",
    "    for i, d in enumerate(lines):\n",
    "        tmp = lines[i].split(' ')\n",
    "        tmp1 = np.array(tmp, dtype='float32')\n",
    "        \n",
    "        line.extend(tmp)\n",
    "        line1 = np.append(line1,tmp1)\n",
    "        \n",
    "        if i % 4 == 3:\n",
    "            x_train = np.append(x_train,[line1],axis = 0)\n",
    "            line1 = []\n",
    "            \n",
    "        #if (i % (4 * nframe ))== (4*nframe -1):\n",
    "        #    x_train1 = np.append(x_train1,[x_train],axis = 0)\n",
    "        #    x_label.append(one_hot_encoding(0, 2))\n",
    "        #    x_train = np.empty([0,nbin])\n",
    "            \n",
    "    x_train1 = np.append(x_train1,[x_train],axis = 0)\n",
    "    x_label.append(one_hot_encoding(0, 2))\n",
    "    x_train = np.empty([0,nbin])\n",
    "    \n",
    "\n",
    "np.shape(x_train1)"
   ]
  },
  {
   "cell_type": "code",
   "execution_count": 428,
   "id": "scientific-handbook",
   "metadata": {
    "scrolled": true
   },
   "outputs": [
    {
     "data": {
      "text/plain": [
       "(501, 2000, 40)"
      ]
     },
     "execution_count": 428,
     "metadata": {},
     "output_type": "execute_result"
    }
   ],
   "source": [
    "# None Peapole\n",
    "\n",
    "x_train = []\n",
    "x_train1 = []\n",
    "x_label = []\n",
    "\n",
    "path = r'D:\\study\\DB\\UWB\\alsdream\\ver_1\\None' # r로 시작하는 원시(raw) 문자열을 사용\n",
    "\n",
    "filenames = glob.glob(path + '\\\\'+ \"*.txt\")\n",
    "\n",
    "# 인자로 받은 패턴과 이름이 일치하는 모든 파일과 디렉터리의 리스트를 반환\n",
    "\n",
    "for filename in filenames:\n",
    "\n",
    "    f = open(filename, 'r', errors='ignore')\n",
    "    lines = f.readlines()\n",
    "    line = []\n",
    "    line1 = []\n",
    "    for i, d in enumerate(lines):\n",
    "        tmp = lines[i].split(' ')\n",
    "        \n",
    "        line.extend(tmp)\n",
    "        \n",
    "        if i % 4 == 3:\n",
    "            x_train.append(line)\n",
    "            line = []\n",
    "            \n",
    "    x_train1.append(x_train)\n",
    "    x_label.append(one_hot_encoding(0, 2))\n",
    "    x_train = []\n",
    "    \n",
    "x_train1 = np.array(x_train1, dtype='float32')\n",
    "np.shape(x_train1)"
   ]
  },
  {
   "cell_type": "code",
   "execution_count": 429,
   "id": "least-interest",
   "metadata": {},
   "outputs": [
    {
     "data": {
      "text/plain": [
       "(501, 2000, 40)"
      ]
     },
     "execution_count": 429,
     "metadata": {},
     "output_type": "execute_result"
    }
   ],
   "source": [
    "# One or more Peapole\n",
    "\n",
    "y_train = []\n",
    "y_train1 = []\n",
    "y_label = []\n",
    "\n",
    "path = r'D:\\study\\DB\\UWB\\alsdream\\ver_1' # r로 시작하는 원시(raw) 문자열을 사용\n",
    "\n",
    "folders = ['One', 'People']\n",
    "\n",
    "for folder in folders:\n",
    "    \n",
    "    filenames = glob.glob(path + '\\\\' + folder + '\\\\'+ \"*.txt\")\n",
    "\n",
    "# 인자로 받은 패턴과 이름이 일치하는 모든 파일과 디렉터리의 리스트를 반환\n",
    "\n",
    "    for filename in filenames:\n",
    "\n",
    "        f = open(filename, 'r', errors='ignore')\n",
    "        lines = f.readlines()\n",
    "        line = []\n",
    "        line1 = []\n",
    "        for i, d in enumerate(lines):\n",
    "            tmp = lines[i].split(' ')\n",
    "\n",
    "            line.extend(tmp)\n",
    "\n",
    "            if i % 4 == 3:\n",
    "                y_train.append(line)\n",
    "                line = []\n",
    "\n",
    "        y_train1.append(y_train)\n",
    "        y_label.append(one_hot_encoding(0, 2))\n",
    "        y_train = []\n",
    "\n",
    "y_train1 = np.array(y_train1, dtype='float32')\n",
    "np.shape(y_train1)"
   ]
  },
  {
   "cell_type": "code",
   "execution_count": 37,
   "id": "stable-equilibrium",
   "metadata": {},
   "outputs": [
    {
     "data": {
      "text/plain": [
       "array([[2584., 2581., 2591., ..., 2532., 2526., 2559.],\n",
       "       [2584., 2578., 2614., ..., 2503., 2545., 2557.],\n",
       "       [2521., 2582., 2616., ..., 2533., 2547., 2452.],\n",
       "       ...,\n",
       "       [2582., 2578., 2615., ..., 2533., 2544., 1756.],\n",
       "       [2522., 2576., 2612., ..., 2535., 2544., 2557.],\n",
       "       [2579., 2579., 2613., ..., 2532., 2545., 2559.]], dtype=float32)"
      ]
     },
     "execution_count": 37,
     "metadata": {},
     "output_type": "execute_result"
    }
   ],
   "source": [
    "x_train1[0]"
   ]
  },
  {
   "cell_type": "code",
   "execution_count": 396,
   "id": "acceptable-circuit",
   "metadata": {},
   "outputs": [
    {
     "data": {
      "text/plain": [
       "(500, 2000, 40)"
      ]
     },
     "execution_count": 396,
     "metadata": {},
     "output_type": "execute_result"
    }
   ],
   "source": [
    "#  One or more Peapole\n",
    "\n",
    "y_train = np.empty([0,nbin])\n",
    "y_train1 = np.empty([0,nframe,nbin])\n",
    "y_label = []\n",
    "\n",
    "path = r'D:\\study\\DB\\UWB\\alsdream\\ver_1' # r로 시작하는 원시(raw) 문자열을 사용\n",
    "\n",
    "folders = ['One', 'People']\n",
    "\n",
    "for folder in folders:\n",
    "    \n",
    "    filenames = glob.glob(path + '\\\\' + folder + '\\\\'+ \"*.txt\")\n",
    "    # 인자로 받은 패턴과 이름이 일치하는 모든 파일과 디렉터리의 리스트를 반환\n",
    "\n",
    "    for filename in filenames:\n",
    "\n",
    "        f = open(filename, 'r', errors='ignore')\n",
    "        lines = f.readlines()\n",
    "        line = []\n",
    "        line1 = []\n",
    "        for i, d in enumerate(lines):\n",
    "            tmp = lines[i].split(' ')\n",
    "            tmp1 = np.array(tmp, dtype='float32')\n",
    "\n",
    "            line.extend(tmp)\n",
    "            line1 = np.append(line1,tmp1)\n",
    "\n",
    "            if i % 4 == 3:\n",
    "                y_train = np.append(y_train,[line1],axis = 0)\n",
    "                line1 = []\n",
    "\n",
    "        y_train1 = np.append(y_train1,[y_train],axis = 0)\n",
    "        y_label.append(one_hot_encoding(1, 2))\n",
    "        y_train = np.empty([0,nbin])\n",
    "    \n",
    "\n",
    "np.shape(y_train1)"
   ]
  },
  {
   "cell_type": "code",
   "execution_count": 45,
   "id": "integral-performance",
   "metadata": {},
   "outputs": [
    {
     "data": {
      "text/plain": [
       "(146, 2000, 40, 1)"
      ]
     },
     "execution_count": 45,
     "metadata": {},
     "output_type": "execute_result"
    }
   ],
   "source": [
    "t_data = np.concatenate((x_train1, y_train1), axis = 0)\n",
    "ndata = t_data.shape[0]\n",
    "\n",
    "t_data = t_data.reshape(ndata,nframe,nbin,1)\n",
    "t_label = np.concatenate((x_label, y_label), axis = 0)\n",
    "\n",
    "p = round(t_data.shape[0] * 0.75)\n",
    "\n",
    "train_data = t_data[:p]\n",
    "train_label = t_label[:p]\n",
    "\n",
    "test_data = t_data[p:]\n",
    "test_label = t_label[p:]\n",
    "\n",
    "test_data.shape"
   ]
  },
  {
   "cell_type": "code",
   "execution_count": 8,
   "id": "herbal-clothing",
   "metadata": {},
   "outputs": [
    {
     "data": {
      "text/plain": [
       "<matplotlib.image.AxesImage at 0x24740c82188>"
      ]
     },
     "execution_count": 8,
     "metadata": {},
     "output_type": "execute_result"
    },
    {
     "data": {
      "image/png": "[encoded data removed]",
      "text/plain": [
       "<Figure size 432x288 with 1 Axes>"
      ]
     },
     "metadata": {
      "needs_background": "light"
     },
     "output_type": "display_data"
    }
   ],
   "source": [
    "import matplotlib.pyplot as plt\n",
    "\n",
    "start = 0\n",
    "plt.imshow(x_train1[0,start:start+2000])"
   ]
  },
  {
   "cell_type": "code",
   "execution_count": 9,
   "id": "sacred-lewis",
   "metadata": {
    "scrolled": true
   },
   "outputs": [
    {
     "data": {
      "text/plain": [
       "<matplotlib.image.AxesImage at 0x24740f8f608>"
      ]
     },
     "execution_count": 9,
     "metadata": {},
     "output_type": "execute_result"
    },
    {
     "data": {
      "image/png": "[encoded data removed]",
      "text/plain": [
       "<Figure size 432x288 with 1 Axes>"
      ]
     },
     "metadata": {
      "needs_background": "light"
     },
     "output_type": "display_data"
    }
   ],
   "source": [
    "import matplotlib.pyplot as plt\n",
    "\n",
    "start = 800\n",
    "plt.imshow(y_train1[0,start:start+100])"
   ]
  },
  {
   "cell_type": "code",
   "execution_count": 430,
   "id": "bridal-bailey",
   "metadata": {},
   "outputs": [
    {
     "data": {
      "text/plain": [
       "(1002, 2000, 40, 1)"
      ]
     },
     "execution_count": 430,
     "metadata": {},
     "output_type": "execute_result"
    }
   ],
   "source": [
    "train_data = np.concatenate((x_train1, y_train1), axis = 0)\n",
    "ndata = train_data.shape[0]\n",
    "\n",
    "train_data = train_data.reshape(ndata,nframe,nbin,1)\n",
    "train_data = train_data/2000\n",
    "train_data.shape"
   ]
  },
  {
   "cell_type": "code",
   "execution_count": 431,
   "id": "corresponding-nigeria",
   "metadata": {},
   "outputs": [
    {
     "data": {
      "text/plain": [
       "(1002, 2)"
      ]
     },
     "execution_count": 431,
     "metadata": {},
     "output_type": "execute_result"
    }
   ],
   "source": [
    "train_label = np.concatenate((x_label, y_label), axis = 0)\n",
    "train_label.shape"
   ]
  },
  {
   "cell_type": "code",
   "execution_count": 356,
   "id": "discrete-situation",
   "metadata": {},
   "outputs": [],
   "source": [
    "train_data, train_label = rand_shuffle(train_data, train_label)"
   ]
  },
  {
   "cell_type": "code",
   "execution_count": 11,
   "id": "proof-morgan",
   "metadata": {},
   "outputs": [],
   "source": [
    "trd, trl, ted, tel = make_valid(train_data, train_label)"
   ]
  },
  {
   "cell_type": "code",
   "execution_count": 12,
   "id": "enormous-register",
   "metadata": {},
   "outputs": [],
   "source": [
    "train_data = trd\n",
    "train_label = trl\n",
    "test_data = ted\n",
    "test_label = tel"
   ]
  },
  {
   "cell_type": "code",
   "execution_count": 202,
   "id": "lasting-pledge",
   "metadata": {},
   "outputs": [
    {
     "ename": "ValueError",
     "evalue": "cannot reshape array of size 37280000 into shape (583,80000)",
     "output_type": "error",
     "traceback": [
      "\u001b[1;31m---------------------------------------------------------------------------\u001b[0m",
      "\u001b[1;31mValueError\u001b[0m                                Traceback (most recent call last)",
      "\u001b[1;32m<ipython-input-202-229d82fe6f0a>\u001b[0m in \u001b[0;36m<module>\u001b[1;34m\u001b[0m\n\u001b[1;32m----> 1\u001b[1;33m \u001b[0mtrain_data1\u001b[0m \u001b[1;33m=\u001b[0m \u001b[0mtrain_data\u001b[0m\u001b[1;33m.\u001b[0m\u001b[0mreshape\u001b[0m\u001b[1;33m(\u001b[0m\u001b[1;33m(\u001b[0m\u001b[0mndata\u001b[0m\u001b[1;33m,\u001b[0m \u001b[0mnframe\u001b[0m\u001b[1;33m*\u001b[0m\u001b[0mnbin\u001b[0m\u001b[1;33m)\u001b[0m\u001b[1;33m)\u001b[0m\u001b[1;33m\u001b[0m\u001b[1;33m\u001b[0m\u001b[0m\n\u001b[0m\u001b[0;32m      2\u001b[0m \u001b[0mtrain_data1\u001b[0m \u001b[1;33m=\u001b[0m \u001b[0mtrain_data1\u001b[0m\u001b[1;33m/\u001b[0m\u001b[1;36m2000\u001b[0m\u001b[1;33m\u001b[0m\u001b[1;33m\u001b[0m\u001b[0m\n",
      "\u001b[1;31mValueError\u001b[0m: cannot reshape array of size 37280000 into shape (583,80000)"
     ]
    }
   ],
   "source": [
    "train_data1 = train_data.reshape((ndata, nframe*nbin))\n",
    "train_data1 = train_data1/2000"
   ]
  },
  {
   "cell_type": "code",
   "execution_count": null,
   "id": "shaped-wisconsin",
   "metadata": {},
   "outputs": [],
   "source": [
    "print(train_data.shape)\n",
    "print(train_data1.shape)"
   ]
  },
  {
   "cell_type": "code",
   "execution_count": null,
   "id": "skilled-forum",
   "metadata": {},
   "outputs": [],
   "source": [
    "train_data1[0]"
   ]
  },
  {
   "cell_type": "code",
   "execution_count": 436,
   "id": "subjective-floor",
   "metadata": {},
   "outputs": [
    {
     "name": "stdout",
     "output_type": "stream",
     "text": [
      "Model: \"sequential_37\"\n",
      "_________________________________________________________________\n",
      "Layer (type)                 Output Shape              Param #   \n",
      "=================================================================\n",
      "conv2d_49 (Conv2D)           (None, 1998, 38, 3)       30        \n",
      "_________________________________________________________________\n",
      "max_pooling2d_49 (MaxPooling (None, 999, 19, 3)        0         \n",
      "_________________________________________________________________\n",
      "dropout_50 (Dropout)         (None, 999, 19, 3)        0         \n",
      "_________________________________________________________________\n",
      "flatten_37 (Flatten)         (None, 56943)             0         \n",
      "_________________________________________________________________\n",
      "dense_95 (Dense)             (None, 100)               5694400   \n",
      "_________________________________________________________________\n",
      "dense_96 (Dense)             (None, 2)                 202       \n",
      "=================================================================\n",
      "Total params: 5,694,632\n",
      "Trainable params: 5,694,632\n",
      "Non-trainable params: 0\n",
      "_________________________________________________________________\n"
     ]
    }
   ],
   "source": [
    "from tensorflow.keras import models, layers\n",
    "\n",
    "model = models.Sequential()\n",
    "model.add(layers.Conv2D(filters=3, kernel_size = 3, strides = 1, activation='relu', input_shape=(2000, 40, 1)))\n",
    "model.add(layers.MaxPooling2D())\n",
    "model.add(layers.Dropout(0.2))\n",
    "model.add(layers.Flatten())\n",
    "model.add(layers.Dense(500, activation='relu'))\n",
    "# model.add(layers.Dropout(0.2))\n",
    "# model.add(layers.Dense(100, activation='relu'))\n",
    "model.add(layers.Dense(2, activation='softmax'))\n",
    "\n",
    "model.summary()"
   ]
  },
  {
   "cell_type": "code",
   "execution_count": 437,
   "id": "dependent-yahoo",
   "metadata": {},
   "outputs": [],
   "source": [
    "from tensorflow.keras import optimizers\n",
    "\n",
    "model.compile(optimizer='rmsprop',\n",
    "               loss='categorical_crossentropy',\n",
    "               metrics=['accuracy'])"
   ]
  },
  {
   "cell_type": "code",
   "execution_count": 438,
   "id": "documentary-prototype",
   "metadata": {},
   "outputs": [],
   "source": [
    "tflite_model_name = 'UWBedge_model'\n",
    "model.save(\"UWBedge_model\" + '.h5')"
   ]
  },
  {
   "cell_type": "code",
   "execution_count": 439,
   "id": "through-palmer",
   "metadata": {
    "scrolled": true
   },
   "outputs": [
    {
     "name": "stdout",
     "output_type": "stream",
     "text": [
      "Epoch 1/10\n",
      "201/201 [==============================] - 11s 57ms/step - loss: 0.0020 - accuracy: 1.0000\n",
      "Epoch 2/10\n",
      "201/201 [==============================] - 12s 57ms/step - loss: 0.0000e+00 - accuracy: 1.0000\n",
      "Epoch 3/10\n",
      "201/201 [==============================] - 12s 58ms/step - loss: 0.0000e+00 - accuracy: 1.0000\n",
      "Epoch 4/10\n",
      "201/201 [==============================] - 12s 58ms/step - loss: 0.0000e+00 - accuracy: 1.0000\n",
      "Epoch 5/10\n",
      "201/201 [==============================] - 12s 58ms/step - loss: 0.0000e+00 - accuracy: 1.0000\n",
      "Epoch 6/10\n",
      "201/201 [==============================] - 12s 58ms/step - loss: 0.0000e+00 - accuracy: 1.0000\n",
      "Epoch 7/10\n",
      "201/201 [==============================] - 12s 62ms/step - loss: 0.0000e+00 - accuracy: 1.0000\n",
      "Epoch 8/10\n",
      "201/201 [==============================] - 13s 64ms/step - loss: 0.0000e+00 - accuracy: 1.0000\n",
      "Epoch 9/10\n",
      "201/201 [==============================] - 13s 62ms/step - loss: 0.0000e+00 - accuracy: 1.0000\n",
      "Epoch 10/10\n",
      "201/201 [==============================] - 12s 62ms/step - loss: 0.0000e+00 - accuracy: 1.0000\n"
     ]
    }
   ],
   "source": [
    "history = model.fit(train_data, \n",
    "                    train_label,\n",
    "                    epochs=5,\n",
    "                    batch_size=5)"
   ]
  },
  {
   "cell_type": "code",
   "execution_count": 287,
   "id": "utility-intranet",
   "metadata": {},
   "outputs": [
    {
     "name": "stdout",
     "output_type": "stream",
     "text": [
      "7/7 [==============================] - 0s 59ms/step - loss: 0.0070 - accuracy: 1.0000\n"
     ]
    },
    {
     "data": {
      "text/plain": [
       "[0.00701864855363965, 1.0]"
      ]
     },
     "execution_count": 287,
     "metadata": {},
     "output_type": "execute_result"
    }
   ],
   "source": [
    "results = model.evaluate(test_data, test_label)\n",
    "results"
   ]
  },
  {
   "cell_type": "code",
   "execution_count": null,
   "id": "atlantic-liability",
   "metadata": {},
   "outputs": [
    {
     "name": "stdout",
     "output_type": "stream",
     "text": [
      "7/7 [==============================] - 0s 39ms/step - loss: 370268.5312 - accuracy: 0.0000e+00\n",
      "One ->  [370268.53125, 0.0]\n"
     ]
    }
   ],
   "source": [
    "# test\n",
    "\n",
    "path = r'D:\\study\\DB\\UWB\\alsdream' # r로 시작하는 원시(raw) 문자열을 사용\n",
    "\n",
    "folders = ['One', 'One_more', 'None_Test']\n",
    "# folders = ['None_Test']\n",
    "\n",
    "for k, folder in enumerate(folders):\n",
    "    if k < 2:\n",
    "        p = 1\n",
    "    else:\n",
    "        p = 0\n",
    "    t_train = []\n",
    "    t_train1 = []\n",
    "    t_label = []\n",
    "\n",
    "    filenames = glob.glob(path + '\\\\' + folder + '\\\\'+ \"*.txt\")\n",
    "    # 인자로 받은 패턴과 이름이 일치하는 모든 파일과 디렉터리의 리스트를 반환\n",
    "\n",
    "    for filename in filenames:\n",
    "\n",
    "        f = open(filename, 'r', errors='ignore')\n",
    "        lines = f.readlines()\n",
    "        line = []\n",
    "        line1 = []\n",
    "        for i, d in enumerate(lines):\n",
    "            tmp = lines[i].split(' ')\n",
    "\n",
    "            line.extend(tmp)\n",
    "\n",
    "            if i % 4 == 3:\n",
    "                t_train.append(line)\n",
    "                line = []\n",
    "\n",
    "        t_train1.append(t_train)\n",
    "        t_label.append(one_hot_encoding(p, 2))\n",
    "        t_train = []\n",
    "\n",
    "    t_train1 = np.array(t_train1, dtype='float32')\n",
    "    ndata = t_train1.shape[0]\n",
    "\n",
    "    t_train1 = t_train1.reshape(ndata,nframe,nbin,1)\n",
    "    t_label = np.array(t_label, dtype='float32')\n",
    "\n",
    "    results = model.evaluate(t_train1, t_label)\n",
    "    print(folder + ' -> ', results)"
   ]
  },
  {
   "cell_type": "code",
   "execution_count": 384,
   "id": "wooden-jumping",
   "metadata": {},
   "outputs": [
    {
     "data": {
      "text/plain": [
       "[1, 0]"
      ]
     },
     "execution_count": 384,
     "metadata": {},
     "output_type": "execute_result"
    }
   ],
   "source": [
    "t_label[0]"
   ]
  },
  {
   "cell_type": "code",
   "execution_count": 394,
   "id": "documentary-runner",
   "metadata": {},
   "outputs": [
    {
     "name": "stdout",
     "output_type": "stream",
     "text": [
      "7/7 [==============================] - 0s 51ms/step - loss: 2001.0413 - accuracy: 0.8650\n"
     ]
    },
    {
     "data": {
      "text/plain": [
       "[2001.041259765625, 0.8650000095367432]"
      ]
     },
     "execution_count": 394,
     "metadata": {},
     "output_type": "execute_result"
    }
   ],
   "source": [
    "ndata = t_train1.shape[0]\n",
    "\n",
    "t_train1 = t_train1.reshape(ndata,nframe,nbin,1)\n",
    "t_label = np.array(t_label, dtype='float32')\n",
    "\n",
    "# te_data, te_label = rand_shuffle(t_train1, t_label)\n",
    "\n",
    "# p = round(ndata * 0.5)\n",
    "\n",
    "# test_data = te_data[:p]\n",
    "# test_label = te_label[:p]\n",
    "\n",
    "results = model.evaluate(t_train1, t_label)\n",
    "results"
   ]
  },
  {
   "cell_type": "code",
   "execution_count": 346,
   "id": "regulated-miracle",
   "metadata": {
    "scrolled": true
   },
   "outputs": [
    {
     "data": {
      "text/plain": [
       "array([1, 1, 1, 1, 1, 1, 1, 1, 1, 1, 0, 1, 1, 1, 1, 1, 1, 1, 1, 1, 1, 1,\n",
       "       1, 1, 1, 1, 1, 1, 0, 0, 1, 1, 1, 1, 1, 1, 0, 1, 1, 1, 1, 1, 1, 0,\n",
       "       1, 0, 1, 1, 1, 1, 1, 0, 1, 1, 1, 1, 1, 0, 1, 1, 1, 1, 0, 0, 1, 1,\n",
       "       1, 1, 1, 1, 0, 1, 1, 1, 1, 0, 0, 1, 1, 1, 1, 0, 0, 1, 1, 1, 1, 1,\n",
       "       0, 1, 0, 1, 0, 1, 1, 1, 1, 1, 1, 1, 1, 0, 1, 1, 1, 1, 1, 1, 1, 1,\n",
       "       1, 1, 1, 0, 1, 1, 1, 1, 1, 1, 1, 1, 0, 0, 1, 0, 1, 1, 0, 1, 1, 1,\n",
       "       0, 1, 1, 1, 1, 1, 1, 1, 1, 0, 1, 1, 1, 1, 1, 1, 1, 1, 1, 1, 1, 1,\n",
       "       1, 0, 1, 0, 1, 1, 1, 1, 1, 1, 0, 0, 1, 1, 1, 1, 1, 1, 1, 1, 1, 0,\n",
       "       0, 1, 1, 1, 1, 1, 1, 1, 1, 1, 1, 0, 1, 1, 1, 1, 1, 1, 1, 1, 1, 1,\n",
       "       1, 1], dtype=int64)"
      ]
     },
     "execution_count": 346,
     "metadata": {},
     "output_type": "execute_result"
    }
   ],
   "source": [
    "predictions = model.predict_classes(t_train1)\n",
    "predictions"
   ]
  },
  {
   "cell_type": "code",
   "execution_count": 261,
   "id": "magnetic-guarantee",
   "metadata": {},
   "outputs": [
    {
     "name": "stdout",
     "output_type": "stream",
     "text": [
      "\n",
      "79\n"
     ]
    }
   ],
   "source": [
    "cnt = 0\n",
    "for i, n in enumerate(predictions):\n",
    "\n",
    "    if n == 0:\n",
    "        cnt += 1\n",
    "#         print(i)\n",
    "#         print(filenames[i])\n",
    "        \n",
    "print()\n",
    "print(cnt)"
   ]
  },
  {
   "cell_type": "code",
   "execution_count": 262,
   "id": "senior-shell",
   "metadata": {},
   "outputs": [
    {
     "data": {
      "image/png": "[encoded data removed]",
      "text/plain": [
       "<Figure size 432x288 with 1 Axes>"
      ]
     },
     "metadata": {
      "needs_background": "light"
     },
     "output_type": "display_data"
    }
   ],
   "source": [
    "import matplotlib.pyplot as plt\n",
    "\n",
    "ff = open(filenames[87]).readlines()\n",
    "# plt.imshow(t_train1[0,start:start+2000])\n",
    "\n",
    "line = []\n",
    "line1 = []\n",
    "for i, d in enumerate(ff):\n",
    "    tmp = d.split(' ')\n",
    "\n",
    "    line.extend(tmp)\n",
    "\n",
    "    if i % 4 == 3:\n",
    "        line1.append(line)\n",
    "        line = []\n",
    "ll = np.array(line1, dtype='float32')\n",
    "\n",
    "ll2 = ll.flatten()\n",
    "plt.plot(ll2[0:100])\n",
    "plt.show()"
   ]
  },
  {
   "cell_type": "code",
   "execution_count": 263,
   "id": "gothic-foundation",
   "metadata": {},
   "outputs": [
    {
     "data": {
      "text/plain": [
       "dict_keys(['loss', 'accuracy', 'val_loss', 'val_accuracy'])"
      ]
     },
     "execution_count": 263,
     "metadata": {},
     "output_type": "execute_result"
    }
   ],
   "source": [
    "history_dict = history.history\n",
    "history_dict.keys()"
   ]
  },
  {
   "cell_type": "code",
   "execution_count": 264,
   "id": "gorgeous-warrior",
   "metadata": {},
   "outputs": [
    {
     "data": {
      "image/png": "[encoded data removed]",
      "text/plain": [
       "<Figure size 432x288 with 1 Axes>"
      ]
     },
     "metadata": {
      "needs_background": "light"
     },
     "output_type": "display_data"
    }
   ],
   "source": [
    "import matplotlib.pyplot as plt\n",
    "\n",
    "plt.clf()\n",
    "acc_values = history_dict['accuracy']\n",
    "epochs = range(1, len(history_dict['accuracy']) + 1)\n",
    "\n",
    "plt.plot(epochs, acc_values, label='Training acc')\n",
    "plt.title('Training accuracy')\n",
    "plt.xlabel('Epochs')\n",
    "plt.ylabel('Loss')\n",
    "plt.legend()\n",
    "\n",
    "plt.show()"
   ]
  },
  {
   "cell_type": "code",
   "execution_count": 265,
   "id": "patent-department",
   "metadata": {},
   "outputs": [
    {
     "data": {
      "image/png": "[encoded data removed]",
      "text/plain": [
       "<Figure size 576x576 with 2 Axes>"
      ]
     },
     "metadata": {
      "needs_background": "light"
     },
     "output_type": "display_data"
    }
   ],
   "source": [
    "import matplotlib.pyplot as plt\n",
    "\n",
    "acc = history.history['accuracy']\n",
    "val_acc = history.history['val_accuracy']\n",
    "\n",
    "loss=history.history['loss']\n",
    "val_loss=history.history['val_loss']\n",
    "\n",
    "epochs_range = range(1, len(history_dict['accuracy']) + 1)\n",
    "\n",
    "plt.figure(figsize=(8, 8))\n",
    "plt.subplot(1, 2, 1)\n",
    "plt.plot(epochs_range, acc, label='Training Accuracy')\n",
    "plt.plot(epochs_range, val_acc, label='Validation Accuracy')\n",
    "plt.legend(loc='lower right')\n",
    "plt.title('Training and Validation Accuracy')\n",
    "\n",
    "plt.subplot(1, 2, 2)\n",
    "plt.plot(epochs_range, loss, label='Training Loss')\n",
    "plt.plot(epochs_range, val_loss, label='Validation Loss')\n",
    "plt.legend(loc='upper right')\n",
    "plt.title('Training and Validation Loss')\n",
    "plt.show()"
   ]
  },
  {
   "cell_type": "code",
   "execution_count": null,
   "id": "viral-religious",
   "metadata": {},
   "outputs": [],
   "source": []
  }
 ],
 "metadata": {
  "kernelspec": {
   "display_name": "Python [conda env:project1] *",
   "language": "python",
   "name": "conda-env-project1-py"
  },
  "language_info": {
   "codemirror_mode": {
    "name": "ipython",
    "version": 3
   },
   "file_extension": ".py",
   "mimetype": "text/x-python",
   "name": "python",
   "nbconvert_exporter": "python",
   "pygments_lexer": "ipython3",
   "version": "3.7.9"
  }
 },
 "nbformat": 4,
 "nbformat_minor": 5
}
