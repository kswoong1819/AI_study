{
 "cells": [
  {
   "cell_type": "code",
   "execution_count": 1,
   "id": "every-foundation",
   "metadata": {},
   "outputs": [],
   "source": [
    "import pandas as pd\n",
    "import numpy as np\n",
    "import glob # 파일의 경로명을 이용하여 파일들의 리스트를 뽑을 때 사용"
   ]
  },
  {
   "cell_type": "code",
   "execution_count": 2,
   "id": "committed-sullivan",
   "metadata": {},
   "outputs": [],
   "source": [
    "def one_hot_encoding(n, length):\n",
    "    one_hot = [0] * length\n",
    "    one_hot[n] = 1\n",
    "    \n",
    "    return one_hot"
   ]
  },
  {
   "cell_type": "code",
   "execution_count": 3,
   "id": "furnished-religion",
   "metadata": {},
   "outputs": [],
   "source": [
    "def rand_shuffle(data, label):\n",
    "\n",
    "    s = np.arange(data.shape[0])\n",
    "    np.random.shuffle(s)\n",
    "\n",
    "    return data[s], label[s]"
   ]
  },
  {
   "cell_type": "code",
   "execution_count": 4,
   "id": "extra-watershed",
   "metadata": {},
   "outputs": [],
   "source": [
    "def make_valid(data, label):\n",
    "    pivot = round(data.shape[0] * 0.9)\n",
    "    train_data = data[:pivot]\n",
    "    train_label = label[:pivot]\n",
    "    \n",
    "    test_data = data[pivot:]\n",
    "    test_label = label[pivot:]\n",
    "    \n",
    "    return train_data, train_label, test_data, test_label"
   ]
  },
  {
   "cell_type": "code",
   "execution_count": 14,
   "id": "ceramic-mainstream",
   "metadata": {},
   "outputs": [],
   "source": [
    "def read_db(path, nlabel):    \n",
    "    data_temp = []\n",
    "    data = []\n",
    "    label = []\n",
    "    \n",
    "    filenames = glob.glob(path + '\\\\'+ \"*.txt\")\n",
    "\n",
    "    for filename in filenames:\n",
    "\n",
    "        f = open(filename, 'r', errors='ignore')\n",
    "        lines = f.readlines()\n",
    "        line = []\n",
    "        line1 = []\n",
    "        for i, d in enumerate(lines):\n",
    "            tmp = lines[i].split(' ')\n",
    "\n",
    "            line.extend(tmp)\n",
    "\n",
    "            if i % 4 == 3:\n",
    "                data_temp.append(line)\n",
    "                line = []\n",
    "\n",
    "        data.append(data_temp)\n",
    "        label.append(one_hot_encoding(nlabel, 2))\n",
    "        data_temp = []\n",
    "\n",
    "    data = np.array(data, dtype='float32')\n",
    "    label = np.array(label, dtype='float32')\n",
    "    \n",
    "    data = data/2000\n",
    "    return data, label\n"
   ]
  },
  {
   "cell_type": "code",
   "execution_count": 15,
   "id": "funky-recovery",
   "metadata": {},
   "outputs": [],
   "source": [
    "#init\n",
    "nbin = 40\n",
    "nframe = 2000"
   ]
  },
  {
   "cell_type": "code",
   "execution_count": 16,
   "id": "maritime-hospital",
   "metadata": {
    "scrolled": true
   },
   "outputs": [
    {
     "name": "stdout",
     "output_type": "stream",
     "text": [
      "(1676, 2000, 40, 1)\n",
      "(925, 2000, 40, 1)\n",
      "(944, 2000, 40, 1)\n",
      "[1. 0.]\n",
      "[0. 1.]\n",
      "[0. 1.]\n"
     ]
    }
   ],
   "source": [
    "#DB read\n",
    "#1. None People\n",
    "path = r'D:\\study\\DB\\UWB\\NonePeople'\n",
    "data_nonepeople, label_nonepeople = read_db(path,0)\n",
    "\n",
    "#2. People\n",
    "path = r'D:\\study\\DB\\UWB\\People\\MorePeople'\n",
    "data_morepeople, label_morepeople = read_db(path,1)\n",
    "path = r'D:\\study\\DB\\UWB\\People\\OnePeople'\n",
    "data_onepeople, label_onepeople = read_db(path,1)\n",
    "\n",
    "\n",
    "data_nonepeople = data_nonepeople.reshape(data_nonepeople.shape[0],nframe,nbin,1)\n",
    "data_morepeople = data_morepeople.reshape(data_morepeople.shape[0],nframe,nbin,1)\n",
    "data_onepeople = data_onepeople.reshape(data_onepeople.shape[0],nframe,nbin,1)\n",
    "\n",
    "\n",
    "print(data_nonepeople.shape)\n",
    "print(data_morepeople.shape)\n",
    "print(data_onepeople.shape)\n",
    "\n",
    "print(label_nonepeople[0])\n",
    "print(label_morepeople[0])\n",
    "print(label_onepeople[0])"
   ]
  },
  {
   "cell_type": "code",
   "execution_count": 17,
   "id": "identical-sheep",
   "metadata": {},
   "outputs": [
    {
     "name": "stdout",
     "output_type": "stream",
     "text": [
      "(1508, 2000, 40, 1)\n",
      "(832, 2000, 40, 1)\n",
      "(850, 2000, 40, 1)\n",
      "(168, 2000, 40, 1)\n",
      "(93, 2000, 40, 1)\n",
      "(94, 2000, 40, 1)\n"
     ]
    }
   ],
   "source": [
    "# DB종류별 Train data(90%), Test Data(10%) 구분\n",
    "data_nonepeople, label_nonepeople = rand_shuffle(data_nonepeople, label_nonepeople)\n",
    "train_data_nonepeople, train_label_nonepeople, test_data_nonepeople, test_label_nonepeople, = make_valid(data_nonepeople, label_nonepeople)\n",
    "data_morepeople, label_morepeople = rand_shuffle(data_morepeople, label_morepeople)\n",
    "train_data_morepeople, train_label_morepeople, test_data_morepeople, test_label_morepeople, = make_valid(data_morepeople, label_morepeople)\n",
    "data_onepeople, label_onepeople = rand_shuffle(data_onepeople, label_onepeople)\n",
    "train_data_onepeople, train_label_onepeople, test_data_onepeople, test_label_onepeople, = make_valid(data_onepeople, label_onepeople)\n",
    "\n",
    "print(train_data_nonepeople.shape)\n",
    "print(train_data_morepeople.shape)\n",
    "print(train_data_onepeople.shape)\n",
    "\n",
    "print(test_data_nonepeople.shape)\n",
    "print(test_data_morepeople.shape)\n",
    "print(test_data_onepeople.shape)"
   ]
  },
  {
   "cell_type": "code",
   "execution_count": 18,
   "id": "advised-triangle",
   "metadata": {},
   "outputs": [
    {
     "name": "stdout",
     "output_type": "stream",
     "text": [
      "(3190, 2000, 40, 1)\n",
      "(3190, 2)\n",
      "(355, 2000, 40, 1)\n",
      "(355, 2)\n"
     ]
    }
   ],
   "source": [
    "#DB 종류 병합하여, 하나의 rain_data vs Test_data 로 구분\n",
    "train_data = np.concatenate((train_data_nonepeople, train_data_morepeople,train_data_onepeople), axis = 0)\n",
    "test_data = np.concatenate((test_data_nonepeople, test_data_morepeople,test_data_onepeople), axis = 0)\n",
    "\n",
    "train_label = np.concatenate((train_label_nonepeople, train_label_morepeople,train_label_onepeople), axis = 0)\n",
    "test_label = np.concatenate((test_label_nonepeople, test_label_morepeople,test_label_onepeople), axis = 0)\n",
    "\n",
    "print(train_data.shape)\n",
    "print(train_label.shape)\n",
    "print(test_data.shape)\n",
    "print(test_label.shape)"
   ]
  },
  {
   "cell_type": "code",
   "execution_count": 19,
   "id": "subjective-floor",
   "metadata": {},
   "outputs": [
    {
     "name": "stdout",
     "output_type": "stream",
     "text": [
      "Model: \"sequential_1\"\n",
      "_________________________________________________________________\n",
      "Layer (type)                 Output Shape              Param #   \n",
      "=================================================================\n",
      "conv2d_4 (Conv2D)            (None, 2000, 40, 4)       40        \n",
      "_________________________________________________________________\n",
      "max_pooling2d_4 (MaxPooling2 (None, 200, 20, 4)        0         \n",
      "_________________________________________________________________\n",
      "conv2d_5 (Conv2D)            (None, 200, 20, 8)        296       \n",
      "_________________________________________________________________\n",
      "max_pooling2d_5 (MaxPooling2 (None, 20, 10, 8)         0         \n",
      "_________________________________________________________________\n",
      "conv2d_6 (Conv2D)            (None, 20, 10, 8)         584       \n",
      "_________________________________________________________________\n",
      "max_pooling2d_6 (MaxPooling2 (None, 2, 5, 8)           0         \n",
      "_________________________________________________________________\n",
      "conv2d_7 (Conv2D)            (None, 2, 5, 16)          1168      \n",
      "_________________________________________________________________\n",
      "max_pooling2d_7 (MaxPooling2 (None, 1, 2, 16)          0         \n",
      "_________________________________________________________________\n",
      "dropout_2 (Dropout)          (None, 1, 2, 16)          0         \n",
      "_________________________________________________________________\n",
      "flatten_1 (Flatten)          (None, 32)                0         \n",
      "_________________________________________________________________\n",
      "dense_2 (Dense)              (None, 128)               4224      \n",
      "_________________________________________________________________\n",
      "dropout_3 (Dropout)          (None, 128)               0         \n",
      "_________________________________________________________________\n",
      "dense_3 (Dense)              (None, 2)                 258       \n",
      "=================================================================\n",
      "Total params: 6,570\n",
      "Trainable params: 6,570\n",
      "Non-trainable params: 0\n",
      "_________________________________________________________________\n"
     ]
    }
   ],
   "source": [
    "from tensorflow.keras import models, layers\n",
    "\n",
    "model = models.Sequential()\n",
    "model.add(layers.Conv2D(filters=4, kernel_size = 3, padding = 'same', activation='relu', input_shape=(nframe, nbin, 1)))#nframe = 2000, nbin=40\n",
    "model.add(layers.MaxPooling2D( pool_size=(10, 2) ))\n",
    "model.add(layers.Conv2D(filters=8, kernel_size = 3, padding = 'same', activation='relu'))\n",
    "model.add(layers.MaxPooling2D( pool_size=(10, 2) ))\n",
    "model.add(layers.Conv2D(filters=8, kernel_size = 3, padding = 'same', activation='relu'))\n",
    "model.add(layers.MaxPooling2D( pool_size=(10, 2) ))\n",
    "model.add(layers.Conv2D(filters=16, kernel_size = 3, padding = 'same', activation='relu'))\n",
    "model.add(layers.MaxPooling2D( pool_size=(2, 2) ))\n",
    "model.add(layers.Dropout(0.2))\n",
    "model.add(layers.Flatten())\n",
    "model.add(layers.Dense(128, activation='relu'))\n",
    "model.add(layers.Dropout(0.2))\n",
    "model.add(layers.Dense(2, activation='softmax'))\n",
    "\n",
    "model.summary()"
   ]
  },
  {
   "cell_type": "code",
   "execution_count": 20,
   "id": "dependent-yahoo",
   "metadata": {},
   "outputs": [],
   "source": [
    "from tensorflow.keras import optimizers\n",
    "\n",
    "model.compile(optimizer='rmsprop',\n",
    "               loss='categorical_crossentropy',\n",
    "               metrics=['accuracy'])"
   ]
  },
  {
   "cell_type": "code",
   "execution_count": null,
   "id": "through-palmer",
   "metadata": {
    "scrolled": true
   },
   "outputs": [
    {
     "name": "stdout",
     "output_type": "stream",
     "text": [
      "Epoch 1/10\n",
      "288/288 [==============================] - 15s 52ms/step - loss: 0.4276 - accuracy: 0.8008 - val_loss: 0.3788 - val_accuracy: 0.7712\n",
      "Epoch 2/10\n",
      "288/288 [==============================] - 16s 54ms/step - loss: 0.2669 - accuracy: 0.8997 - val_loss: 0.3166 - val_accuracy: 0.8370\n",
      "Epoch 3/10\n",
      "288/288 [==============================] - 15s 52ms/step - loss: 0.2352 - accuracy: 0.9126 - val_loss: 0.5188 - val_accuracy: 0.7680\n",
      "Epoch 4/10\n",
      "288/288 [==============================] - 15s 53ms/step - loss: 0.2153 - accuracy: 0.9202 - val_loss: 0.2087 - val_accuracy: 0.9028\n",
      "Epoch 5/10\n",
      "288/288 [==============================] - 15s 54ms/step - loss: 0.2114 - accuracy: 0.9199 - val_loss: 0.2190 - val_accuracy: 0.8871\n",
      "Epoch 6/10\n",
      "288/288 [==============================] - 15s 53ms/step - loss: 0.1998 - accuracy: 0.9258 - val_loss: 0.3003 - val_accuracy: 0.8652\n",
      "Epoch 7/10\n",
      "288/288 [==============================] - 15s 53ms/step - loss: 0.1973 - accuracy: 0.9265 - val_loss: 0.4058 - val_accuracy: 0.8339\n",
      "Epoch 8/10\n",
      "288/288 [==============================] - 15s 52ms/step - loss: 0.1938 - accuracy: 0.9300 - val_loss: 0.2656 - val_accuracy: 0.8683\n",
      "Epoch 9/10\n",
      "287/288 [============================>.] - ETA: 0s - loss: 0.1875 - accuracy: 0.9331"
     ]
    }
   ],
   "source": [
    "history = model.fit(train_data, \n",
    "                    train_label,\n",
    "                    validation_split = 0.1,\n",
    "                    shuffle=True,\n",
    "                    epochs=10,\n",
    "                    batch_size=10)"
   ]
  },
  {
   "cell_type": "code",
   "execution_count": null,
   "id": "mighty-cookie",
   "metadata": {},
   "outputs": [],
   "source": [
    "results = model.evaluate(test_data_nonepeople, test_label_nonepeople)\n",
    "print('NonePeopel => ', results)\n",
    "results = model.evaluate(test_data_onepeople, test_label_onepeople)\n",
    "print('OnePeopel => ', results)\n",
    "results = model.evaluate(test_data_morepeople, test_label_morepeople)\n",
    "print('MorePeopel => ', results)\n",
    "\n",
    "print()\n",
    "results = model.evaluate(test_data, test_label)\n",
    "print('Total => ', results)"
   ]
  },
  {
   "cell_type": "code",
   "execution_count": null,
   "id": "fleet-roller",
   "metadata": {},
   "outputs": [],
   "source": [
    "tflite_model_name = 'UWBedge_model_ver1'\n",
    "model.save(tflite_model_name + '.h5')"
   ]
  },
  {
   "cell_type": "code",
   "execution_count": null,
   "id": "underlying-silicon",
   "metadata": {},
   "outputs": [],
   "source": [
    "import tensorflow as tf\n",
    "\n",
    "converter = tf.lite.TFLiteConverter.from_keras_model(model)\n",
    "converter.optimizations = [tf.lite.Optimize.OPTIMIZE_FOR_SIZE]\n",
    "tflite_model = converter.convert()\n",
    "\n",
    "open('UWBedge_model_ver1' +'.tflite','wb').write(tflite_model)"
   ]
  },
  {
   "cell_type": "code",
   "execution_count": null,
   "id": "regulated-miracle",
   "metadata": {
    "scrolled": true
   },
   "outputs": [],
   "source": [
    "predictions = model.predict_classes(test_data_nonepeople)\n",
    "predictions"
   ]
  },
  {
   "cell_type": "code",
   "execution_count": null,
   "id": "gothic-foundation",
   "metadata": {},
   "outputs": [],
   "source": [
    "history_dict = history.history\n",
    "history_dict.keys()"
   ]
  },
  {
   "cell_type": "code",
   "execution_count": 19,
   "id": "gorgeous-warrior",
   "metadata": {},
   "outputs": [
    {
     "data": {
      "image/png": "[encoded data removed]",
      "text/plain": [
       "<Figure size 432x288 with 1 Axes>"
      ]
     },
     "metadata": {
      "needs_background": "light"
     },
     "output_type": "display_data"
    }
   ],
   "source": [
    "import matplotlib.pyplot as plt\n",
    "\n",
    "plt.clf()\n",
    "acc_values = history_dict['accuracy']\n",
    "epochs = range(1, len(history_dict['accuracy']) + 1)\n",
    "\n",
    "plt.plot(epochs, acc_values, label='Training acc')\n",
    "plt.title('Training accuracy')\n",
    "plt.xlabel('Epochs')\n",
    "plt.ylabel('Loss')\n",
    "plt.legend()\n",
    "\n",
    "plt.show()"
   ]
  },
  {
   "cell_type": "code",
   "execution_count": 265,
   "id": "patent-department",
   "metadata": {},
   "outputs": [
    {
     "data": {
      "image/png": "[encoded data removed]",
      "text/plain": [
       "<Figure size 576x576 with 2 Axes>"
      ]
     },
     "metadata": {
      "needs_background": "light"
     },
     "output_type": "display_data"
    }
   ],
   "source": [
    "import matplotlib.pyplot as plt\n",
    "\n",
    "acc = history.history['accuracy']\n",
    "val_acc = history.history['val_accuracy']\n",
    "\n",
    "loss=history.history['loss']\n",
    "val_loss=history.history['val_loss']\n",
    "\n",
    "epochs_range = range(1, len(history_dict['accuracy']) + 1)\n",
    "\n",
    "plt.figure(figsize=(8, 8))\n",
    "plt.subplot(1, 2, 1)\n",
    "plt.plot(epochs_range, acc, label='Training Accuracy')\n",
    "plt.plot(epochs_range, val_acc, label='Validation Accuracy')\n",
    "plt.legend(loc='lower right')\n",
    "plt.title('Training and Validation Accuracy')\n",
    "\n",
    "plt.subplot(1, 2, 2)\n",
    "plt.plot(epochs_range, loss, label='Training Loss')\n",
    "plt.plot(epochs_range, val_loss, label='Validation Loss')\n",
    "plt.legend(loc='upper right')\n",
    "plt.title('Training and Validation Loss')\n",
    "plt.show()"
   ]
  },
  {
   "cell_type": "code",
   "execution_count": null,
   "id": "viral-religious",
   "metadata": {},
   "outputs": [],
   "source": []
  }
 ],
 "metadata": {
  "kernelspec": {
   "display_name": "Python [conda env:project1] *",
   "language": "python",
   "name": "conda-env-project1-py"
  },
  "language_info": {
   "codemirror_mode": {
    "name": "ipython",
    "version": 3
   },
   "file_extension": ".py",
   "mimetype": "text/x-python",
   "name": "python",
   "nbconvert_exporter": "python",
   "pygments_lexer": "ipython3",
   "version": "3.7.9"
  }
 },
 "nbformat": 4,
 "nbformat_minor": 5
}
