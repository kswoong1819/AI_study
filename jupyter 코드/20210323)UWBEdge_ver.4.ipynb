{
 "cells": [
  {
   "cell_type": "code",
   "execution_count": 1,
   "id": "every-foundation",
   "metadata": {},
   "outputs": [],
   "source": [
    "import pandas as pd\n",
    "import numpy as np"
   ]
  },
  {
   "cell_type": "code",
   "execution_count": 2,
   "id": "committed-sullivan",
   "metadata": {},
   "outputs": [],
   "source": [
    "def one_hot_encoding(n, length):\n",
    "    one_hot = [0] * length\n",
    "    one_hot[n] = 1\n",
    "    \n",
    "    return one_hot"
   ]
  },
  {
   "cell_type": "code",
   "execution_count": 3,
   "id": "furnished-religion",
   "metadata": {},
   "outputs": [],
   "source": [
    "def rand_shuffle(data, label):\n",
    "\n",
    "    s = np.arange(data.shape[0])\n",
    "    np.random.shuffle(s)\n",
    "\n",
    "    return data[s], label[s]"
   ]
  },
  {
   "cell_type": "code",
   "execution_count": 27,
   "id": "extra-watershed",
   "metadata": {},
   "outputs": [],
   "source": [
    "def make_valid(data, label):\n",
    "    pivot = round(data.shape[0] * 0.9)\n",
    "    train_data = data[:pivot]\n",
    "    train_label = label[:pivot]\n",
    "    \n",
    "    test_data = data[pivot:]\n",
    "    test_label = label[pivot:]\n",
    "    \n",
    "    return train_data, train_label, test_data, test_label"
   ]
  },
  {
   "cell_type": "code",
   "execution_count": 5,
   "id": "funky-recovery",
   "metadata": {},
   "outputs": [],
   "source": [
    "import glob # 파일의 경로명을 이용하여 파일들의 리스트를 뽑을 때 사용\n",
    "import numpy as np\n",
    "\n",
    "nbin = 40\n",
    "nframe = 2000"
   ]
  },
  {
   "cell_type": "code",
   "execution_count": 13,
   "id": "australian-occasion",
   "metadata": {
    "scrolled": true
   },
   "outputs": [
    {
     "data": {
      "text/plain": [
       "(1676, 2000, 40)"
      ]
     },
     "execution_count": 13,
     "metadata": {},
     "output_type": "execute_result"
    }
   ],
   "source": [
    "# None Peapole\n",
    "\n",
    "x_train = []\n",
    "x_train1 = []\n",
    "x_label = []\n",
    "\n",
    "path = r'D:\\study\\DB\\UWB\\NonePeople'\n",
    "\n",
    "filenames = glob.glob(path + '\\\\'+ \"*.txt\")\n",
    "\n",
    "for filename in filenames:\n",
    "\n",
    "    f = open(filename, 'r', errors='ignore')\n",
    "    lines = f.readlines()\n",
    "    line = []\n",
    "    line1 = []\n",
    "    for i, d in enumerate(lines):\n",
    "        tmp = lines[i].split(' ')\n",
    "        \n",
    "        line.extend(tmp)\n",
    "        \n",
    "        if i % 4 == 3:\n",
    "            x_train.append(line)\n",
    "            line = []\n",
    "            \n",
    "    x_train1.append(x_train)\n",
    "    x_label.append(one_hot_encoding(0, 2))\n",
    "    x_train = []\n",
    "    \n",
    "x_train1 = np.array(x_train1, dtype='float32')\n",
    "x_label = np.array(x_label, dtype='float32')\n",
    "np.shape(x_train1)"
   ]
  },
  {
   "cell_type": "code",
   "execution_count": 14,
   "id": "acceptable-circuit",
   "metadata": {},
   "outputs": [
    {
     "data": {
      "text/plain": [
       "(944, 2000, 40)"
      ]
     },
     "execution_count": 14,
     "metadata": {},
     "output_type": "execute_result"
    }
   ],
   "source": [
    "# One Peapole\n",
    "\n",
    "y_train = []\n",
    "y_train1 = []\n",
    "y_label = []\n",
    "\n",
    "path = r'D:\\study\\DB\\UWB\\People\\OnePeople'\n",
    "    \n",
    "filenames = glob.glob(path + '\\\\'+ \"*.txt\")\n",
    "\n",
    "for filename in filenames:\n",
    "\n",
    "    f = open(filename, 'r', errors='ignore')\n",
    "    lines = f.readlines()\n",
    "    line = []\n",
    "    line1 = []\n",
    "    for i, d in enumerate(lines):\n",
    "        tmp = lines[i].split(' ')\n",
    "\n",
    "        line.extend(tmp)\n",
    "\n",
    "        if i % 4 == 3:\n",
    "            y_train.append(line)\n",
    "            line = []\n",
    "\n",
    "    y_train1.append(y_train)\n",
    "    y_label.append(one_hot_encoding(1, 2))\n",
    "    y_train = []\n",
    "\n",
    "y_train1 = np.array(y_train1, dtype='float32')\n",
    "y_label = np.array(y_label, dtype='float32')\n",
    "np.shape(y_train1)"
   ]
  },
  {
   "cell_type": "code",
   "execution_count": 15,
   "id": "random-graphics",
   "metadata": {},
   "outputs": [
    {
     "data": {
      "text/plain": [
       "(925, 2000, 40)"
      ]
     },
     "execution_count": 15,
     "metadata": {},
     "output_type": "execute_result"
    }
   ],
   "source": [
    "# More Peapole\n",
    "\n",
    "z_train = []\n",
    "z_train1 = []\n",
    "z_label = []\n",
    "\n",
    "path = r'D:\\study\\DB\\UWB\\People\\MorePeople'\n",
    "\n",
    "filenames = glob.glob(path + '\\\\'+ \"*.txt\")\n",
    "\n",
    "for filename in filenames:\n",
    "\n",
    "    f = open(filename, 'r', errors='ignore')\n",
    "    lines = f.readlines()\n",
    "    line = []\n",
    "    line1 = []\n",
    "    for i, d in enumerate(lines):\n",
    "        tmp = lines[i].split(' ')\n",
    "        \n",
    "        line.extend(tmp)\n",
    "        \n",
    "        if i % 4 == 3:\n",
    "            z_train.append(line)\n",
    "            line = []\n",
    "            \n",
    "    z_train1.append(z_train)\n",
    "    z_label.append(one_hot_encoding(1, 2))\n",
    "    z_train = []\n",
    "    \n",
    "z_train1 = np.array(z_train1, dtype='float32')\n",
    "z_label = np.array(z_label, dtype='float32')\n",
    "np.shape(z_train1)"
   ]
  },
  {
   "cell_type": "code",
   "execution_count": 149,
   "id": "bottom-button",
   "metadata": {},
   "outputs": [],
   "source": [
    "x_train1, x_label = rand_shuffle(x_train1, x_label)\n",
    "x_train_data, x_train_label, x_test_data, x_test_label = make_valid(x_train1, x_label)"
   ]
  },
  {
   "cell_type": "code",
   "execution_count": 150,
   "id": "personalized-baking",
   "metadata": {},
   "outputs": [],
   "source": [
    "y_train1, y_label = rand_shuffle(y_train1, y_label)\n",
    "y_train_data, y_train_label, y_test_data, y_test_label = make_valid(y_train1, y_label)"
   ]
  },
  {
   "cell_type": "code",
   "execution_count": 151,
   "id": "noble-arrest",
   "metadata": {},
   "outputs": [],
   "source": [
    "z_train1, z_label = rand_shuffle(z_train1, z_label)\n",
    "z_train_data, z_train_label, z_test_data, z_test_label = make_valid(z_train1, z_label)"
   ]
  },
  {
   "cell_type": "code",
   "execution_count": 152,
   "id": "integral-performance",
   "metadata": {},
   "outputs": [
    {
     "data": {
      "text/plain": [
       "(3190, 2000, 40, 1)"
      ]
     },
     "execution_count": 152,
     "metadata": {},
     "output_type": "execute_result"
    }
   ],
   "source": [
    "train_data = np.concatenate((x_train_data, y_train_data, z_train_data), axis = 0)\n",
    "ndata = train_data.shape[0]\n",
    "\n",
    "train_data = train_data.reshape(ndata,nframe,nbin,1)\n",
    "train_data = train_data/2000\n",
    "train_label = np.concatenate((x_train_label, y_train_label, z_train_label), axis = 0)\n",
    "\n",
    "train_data.shape"
   ]
  },
  {
   "cell_type": "code",
   "execution_count": 153,
   "id": "absent-affiliation",
   "metadata": {},
   "outputs": [],
   "source": [
    "x_test_data = x_test_data.reshape(x_test_data.shape[0],nframe,nbin,1)\n",
    "y_test_data = y_test_data.reshape(y_test_data.shape[0],nframe,nbin,1)\n",
    "z_test_data = z_test_data.reshape(z_test_data.shape[0],nframe,nbin,1)"
   ]
  },
  {
   "cell_type": "code",
   "execution_count": 154,
   "id": "activated-puppy",
   "metadata": {},
   "outputs": [
    {
     "data": {
      "text/plain": [
       "(355, 2000, 40, 1)"
      ]
     },
     "execution_count": 154,
     "metadata": {},
     "output_type": "execute_result"
    }
   ],
   "source": [
    "test_data = np.concatenate((x_test_data, y_test_data, z_test_data), axis = 0)\n",
    "te_data = test_data.shape[0]\n",
    "\n",
    "test_data = test_data.reshape(te_data,nframe,nbin,1)\n",
    "test_data = test_data/2000\n",
    "test_label = np.concatenate((x_test_label, y_test_label, z_test_label), axis = 0)\n",
    "\n",
    "test_data.shape"
   ]
  },
  {
   "cell_type": "code",
   "execution_count": 155,
   "id": "discrete-situation",
   "metadata": {},
   "outputs": [],
   "source": [
    "train_data, train_label = rand_shuffle(train_data, train_label)"
   ]
  },
  {
   "cell_type": "code",
   "execution_count": 168,
   "id": "subjective-floor",
   "metadata": {},
   "outputs": [
    {
     "name": "stdout",
     "output_type": "stream",
     "text": [
      "Model: \"sequential_19\"\n",
      "_________________________________________________________________\n",
      "Layer (type)                 Output Shape              Param #   \n",
      "=================================================================\n",
      "conv2d_75 (Conv2D)           (None, 2000, 40, 4)       40        \n",
      "_________________________________________________________________\n",
      "conv2d_76 (Conv2D)           (None, 2000, 40, 8)       296       \n",
      "_________________________________________________________________\n",
      "max_pooling2d_38 (MaxPooling (None, 1000, 20, 8)       0         \n",
      "_________________________________________________________________\n",
      "conv2d_77 (Conv2D)           (None, 1000, 20, 8)       584       \n",
      "_________________________________________________________________\n",
      "conv2d_78 (Conv2D)           (None, 1000, 20, 16)      1168      \n",
      "_________________________________________________________________\n",
      "max_pooling2d_39 (MaxPooling (None, 500, 10, 16)       0         \n",
      "_________________________________________________________________\n",
      "dropout_38 (Dropout)         (None, 500, 10, 16)       0         \n",
      "_________________________________________________________________\n",
      "flatten_19 (Flatten)         (None, 80000)             0         \n",
      "_________________________________________________________________\n",
      "dense_40 (Dense)             (None, 16)                1280016   \n",
      "_________________________________________________________________\n",
      "dropout_39 (Dropout)         (None, 16)                0         \n",
      "_________________________________________________________________\n",
      "dense_41 (Dense)             (None, 2)                 34        \n",
      "=================================================================\n",
      "Total params: 1,282,138\n",
      "Trainable params: 1,282,138\n",
      "Non-trainable params: 0\n",
      "_________________________________________________________________\n"
     ]
    }
   ],
   "source": [
    "from tensorflow.keras import models, layers\n",
    "\n",
    "model = models.Sequential()\n",
    "model.add(layers.Conv2D(filters=4, kernel_size = 3, padding = 'same', activation='relu', input_shape=(2000, 40, 1)))\n",
    "model.add(layers.Conv2D(filters=8, kernel_size = 3, padding = 'same', activation='relu'))\n",
    "model.add(layers.MaxPooling2D())\n",
    "model.add(layers.Conv2D(filters=8, kernel_size = 3, padding = 'same', activation='relu'))\n",
    "model.add(layers.MaxPooling2D())\n",
    "model.add(layers.Conv2D(filters=16, kernel_size = 3, padding = 'same', activation='relu'))\n",
    "model.add(layers.MaxPooling2D())\n",
    "model.add(layers.Dropout(0.2))\n",
    "model.add(layers.Flatten())\n",
    "model.add(layers.Dense(16, activation='relu'))\n",
    "model.add(layers.Dropout(0.2))\n",
    "model.add(layers.Dense(2, activation='softmax'))\n",
    "\n",
    "model.summary()"
   ]
  },
  {
   "cell_type": "code",
   "execution_count": 169,
   "id": "dependent-yahoo",
   "metadata": {},
   "outputs": [],
   "source": [
    "from tensorflow.keras import optimizers\n",
    "\n",
    "model.compile(optimizer='rmsprop',\n",
    "               loss='categorical_crossentropy',\n",
    "               metrics=['accuracy'])"
   ]
  },
  {
   "cell_type": "code",
   "execution_count": null,
   "id": "through-palmer",
   "metadata": {
    "scrolled": true
   },
   "outputs": [
    {
     "name": "stdout",
     "output_type": "stream",
     "text": [
      "Epoch 1/10\n",
      "288/288 [==============================] - 63s 218ms/step - loss: 0.5025 - accuracy: 0.7517 - val_loss: 0.3291 - val_accuracy: 0.8589\n",
      "Epoch 2/10\n",
      "288/288 [==============================] - 62s 215ms/step - loss: 0.3557 - accuracy: 0.8617 - val_loss: 0.3012 - val_accuracy: 0.8746\n",
      "Epoch 3/10\n",
      "288/288 [==============================] - 61s 212ms/step - loss: 0.2807 - accuracy: 0.8913 - val_loss: 0.5118 - val_accuracy: 0.8433\n",
      "Epoch 4/10\n",
      "288/288 [==============================] - 63s 218ms/step - loss: 0.2504 - accuracy: 0.9053 - val_loss: 0.2997 - val_accuracy: 0.8997\n",
      "Epoch 5/10\n",
      "288/288 [==============================] - 63s 219ms/step - loss: 0.2078 - accuracy: 0.9272 - val_loss: 0.2504 - val_accuracy: 0.9216\n",
      "Epoch 6/10\n",
      "288/288 [==============================] - 64s 223ms/step - loss: 0.1544 - accuracy: 0.9450 - val_loss: 0.2902 - val_accuracy: 0.9091\n",
      "Epoch 7/10\n",
      "288/288 [==============================] - 63s 219ms/step - loss: 0.1175 - accuracy: 0.9606 - val_loss: 0.3931 - val_accuracy: 0.8903\n",
      "Epoch 8/10\n",
      "288/288 [==============================] - 71s 245ms/step - loss: 0.0950 - accuracy: 0.9700 - val_loss: 0.4946 - val_accuracy: 0.8777\n",
      "Epoch 9/10\n",
      "252/288 [=========================>....] - ETA: 8s - loss: 0.0768 - accuracy: 0.9750"
     ]
    }
   ],
   "source": [
    "history = model.fit(train_data, \n",
    "                    train_label,\n",
    "                    validation_split = 0.1,\n",
    "                    shuffle=True,\n",
    "                    epochs=10,\n",
    "                    batch_size=10)"
   ]
  },
  {
   "cell_type": "code",
   "execution_count": 167,
   "id": "alternative-management",
   "metadata": {},
   "outputs": [
    {
     "name": "stdout",
     "output_type": "stream",
     "text": [
      "6/6 [==============================] - 1s 100ms/step - loss: 52974.7617 - accuracy: 0.0298\n",
      "NonePeopel =>  [52974.76171875, 0.02976190485060215]\n",
      "3/3 [==============================] - 0s 94ms/step - loss: 0.0000e+00 - accuracy: 1.0000\n",
      "OnePeopel =>  [0.0, 1.0]\n",
      "3/3 [==============================] - 0s 88ms/step - loss: 18.1963 - accuracy: 0.9892\n",
      "MorePeopel =>  [18.196300506591797, 0.9892473220825195]\n",
      "\n",
      "12/12 [==============================] - 1s 122ms/step - loss: 0.5649 - accuracy: 0.8648\n",
      "Total =>  [0.5648602843284607, 0.8647887110710144]\n"
     ]
    }
   ],
   "source": [
    "results = model.evaluate(x_test_data, x_test_label)\n",
    "print('NonePeopel => ', results)\n",
    "results = model.evaluate(y_test_data, y_test_label)\n",
    "print('OnePeopel => ', results)\n",
    "results = model.evaluate(z_test_data, z_test_label)\n",
    "print('MorePeopel => ', results)\n",
    "\n",
    "print()\n",
    "results = model.evaluate(test_data, test_label)\n",
    "print('Total => ', results)"
   ]
  },
  {
   "cell_type": "code",
   "execution_count": null,
   "id": "fleet-roller",
   "metadata": {},
   "outputs": [],
   "source": [
    "tflite_model_name = 'UWBedge_model_ver1'\n",
    "model.save(tflite_model_name + '.h5')\n",
    "model.save(tflite_model_name + '.keras')"
   ]
  },
  {
   "cell_type": "code",
   "execution_count": 32,
   "id": "underlying-silicon",
   "metadata": {},
   "outputs": [
    {
     "name": "stdout",
     "output_type": "stream",
     "text": [
      "INFO:tensorflow:Assets written to: C:\\Users\\S1SECOM\\AppData\\Local\\Temp\\tmppfrzrd9e\\assets\n"
     ]
    },
    {
     "name": "stderr",
     "output_type": "stream",
     "text": [
      "INFO:tensorflow:Assets written to: C:\\Users\\S1SECOM\\AppData\\Local\\Temp\\tmppfrzrd9e\\assets\n"
     ]
    },
    {
     "data": {
      "text/plain": [
       "20486016"
      ]
     },
     "execution_count": 32,
     "metadata": {},
     "output_type": "execute_result"
    }
   ],
   "source": [
    "import tensorflow as tf\n",
    "\n",
    "converter = tf.lite.TFLiteConverter.from_keras_model(model)\n",
    "converter.optimizations = [tf.lite.Optimize.OPTIMIZE_FOR_SIZE]\n",
    "tflite_model = converter.convert()\n",
    "\n",
    "open('UWBedge_model_ver1' +'.tflite','wb').write(tflite_model)"
   ]
  },
  {
   "cell_type": "code",
   "execution_count": 346,
   "id": "regulated-miracle",
   "metadata": {
    "scrolled": true
   },
   "outputs": [
    {
     "data": {
      "text/plain": [
       "array([1, 1, 1, 1, 1, 1, 1, 1, 1, 1, 0, 1, 1, 1, 1, 1, 1, 1, 1, 1, 1, 1,\n",
       "       1, 1, 1, 1, 1, 1, 0, 0, 1, 1, 1, 1, 1, 1, 0, 1, 1, 1, 1, 1, 1, 0,\n",
       "       1, 0, 1, 1, 1, 1, 1, 0, 1, 1, 1, 1, 1, 0, 1, 1, 1, 1, 0, 0, 1, 1,\n",
       "       1, 1, 1, 1, 0, 1, 1, 1, 1, 0, 0, 1, 1, 1, 1, 0, 0, 1, 1, 1, 1, 1,\n",
       "       0, 1, 0, 1, 0, 1, 1, 1, 1, 1, 1, 1, 1, 0, 1, 1, 1, 1, 1, 1, 1, 1,\n",
       "       1, 1, 1, 0, 1, 1, 1, 1, 1, 1, 1, 1, 0, 0, 1, 0, 1, 1, 0, 1, 1, 1,\n",
       "       0, 1, 1, 1, 1, 1, 1, 1, 1, 0, 1, 1, 1, 1, 1, 1, 1, 1, 1, 1, 1, 1,\n",
       "       1, 0, 1, 0, 1, 1, 1, 1, 1, 1, 0, 0, 1, 1, 1, 1, 1, 1, 1, 1, 1, 0,\n",
       "       0, 1, 1, 1, 1, 1, 1, 1, 1, 1, 1, 0, 1, 1, 1, 1, 1, 1, 1, 1, 1, 1,\n",
       "       1, 1], dtype=int64)"
      ]
     },
     "execution_count": 346,
     "metadata": {},
     "output_type": "execute_result"
    }
   ],
   "source": [
    "predictions = model.predict_classes(t_train1)\n",
    "predictions"
   ]
  },
  {
   "cell_type": "code",
   "execution_count": 136,
   "id": "gothic-foundation",
   "metadata": {},
   "outputs": [
    {
     "data": {
      "text/plain": [
       "dict_keys(['loss', 'accuracy', 'val_loss', 'val_accuracy'])"
      ]
     },
     "execution_count": 136,
     "metadata": {},
     "output_type": "execute_result"
    }
   ],
   "source": [
    "history_dict = history.history\n",
    "history_dict.keys()"
   ]
  },
  {
   "cell_type": "code",
   "execution_count": 264,
   "id": "gorgeous-warrior",
   "metadata": {},
   "outputs": [
    {
     "data": {
      "image/png": "[encoded data removed]",
      "text/plain": [
       "<Figure size 432x288 with 1 Axes>"
      ]
     },
     "metadata": {
      "needs_background": "light"
     },
     "output_type": "display_data"
    }
   ],
   "source": [
    "import matplotlib.pyplot as plt\n",
    "\n",
    "plt.clf()\n",
    "acc_values = history_dict['accuracy']\n",
    "epochs = range(1, len(history_dict['accuracy']) + 1)\n",
    "\n",
    "plt.plot(epochs, acc_values, label='Training acc')\n",
    "plt.title('Training accuracy')\n",
    "plt.xlabel('Epochs')\n",
    "plt.ylabel('Loss')\n",
    "plt.legend()\n",
    "\n",
    "plt.show()"
   ]
  },
  {
   "cell_type": "code",
   "execution_count": 137,
   "id": "patent-department",
   "metadata": {},
   "outputs": [
    {
     "data": {
      "image/png": "[encoded data removed]",
      "text/plain": [
       "<Figure size 576x576 with 2 Axes>"
      ]
     },
     "metadata": {
      "needs_background": "light"
     },
     "output_type": "display_data"
    }
   ],
   "source": [
    "import matplotlib.pyplot as plt\n",
    "\n",
    "acc = history.history['accuracy']\n",
    "val_acc = history.history['val_accuracy']\n",
    "\n",
    "loss=history.history['loss']\n",
    "val_loss=history.history['val_loss']\n",
    "\n",
    "epochs_range = range(1, len(history_dict['accuracy']) + 1)\n",
    "\n",
    "plt.figure(figsize=(8, 8))\n",
    "plt.subplot(1, 2, 1)\n",
    "plt.plot(epochs_range, acc, label='Training Accuracy')\n",
    "plt.plot(epochs_range, val_acc, label='Validation Accuracy')\n",
    "plt.legend(loc='lower right')\n",
    "plt.title('Training and Validation Accuracy')\n",
    "\n",
    "plt.subplot(1, 2, 2)\n",
    "plt.plot(epochs_range, loss, label='Training Loss')\n",
    "plt.plot(epochs_range, val_loss, label='Validation Loss')\n",
    "plt.legend(loc='upper right')\n",
    "plt.title('Training and Validation Loss')\n",
    "plt.show()"
   ]
  },
  {
   "cell_type": "code",
   "execution_count": null,
   "id": "viral-religious",
   "metadata": {},
   "outputs": [],
   "source": []
  }
 ],
 "metadata": {
  "kernelspec": {
   "display_name": "Python [conda env:project1] *",
   "language": "python",
   "name": "conda-env-project1-py"
  },
  "language_info": {
   "codemirror_mode": {
    "name": "ipython",
    "version": 3
   },
   "file_extension": ".py",
   "mimetype": "text/x-python",
   "name": "python",
   "nbconvert_exporter": "python",
   "pygments_lexer": "ipython3",
   "version": "3.7.9"
  }
 },
 "nbformat": 4,
 "nbformat_minor": 5
}
