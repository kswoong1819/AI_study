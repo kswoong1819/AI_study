{
 "cells": [
  {
   "cell_type": "code",
   "execution_count": 50,
   "id": "experimental-assignment",
   "metadata": {},
   "outputs": [],
   "source": [
    "path = r'D:\\conda\\image\\20201219\\204828_(18_67_78_93)(77_117)_35.6.txt'\n",
    "f = open(path, 'r', errors='ignore')\n",
    "lines = f.readlines()\n",
    "line = []\n",
    "for i, d in enumerate(lines):\n",
    "    tmp = lines[i].split(' ')\n",
    "    if (i == 320):\n",
    "        tmep = tmp[0]\n",
    "    if (i < 100 or len(tmp) < 100): continue\n",
    "    line.append(tmp[:120])"
   ]
  },
  {
   "cell_type": "code",
   "execution_count": 51,
   "id": "perfect-quantum",
   "metadata": {},
   "outputs": [
    {
     "data": {
      "text/plain": [
       "array([[18.1, 18.4, 18.3, ..., 22.9, 22.4, 22.1],\n",
       "       [18.3, 18.5, 18.6, ..., 23.6, 23.7, 23.4],\n",
       "       [18.8, 19.1, 19.2, ..., 24.7, 24.3, 24.3],\n",
       "       ...,\n",
       "       [20.1, 20.2, 19.8, ..., 19.9, 20. , 20. ],\n",
       "       [19.9, 20.2, 20.1, ..., 19.9, 20.1, 20. ],\n",
       "       [20.1, 20.2, 19.7, ..., 19.9, 20. , 20. ]])"
      ]
     },
     "execution_count": 51,
     "metadata": {},
     "output_type": "execute_result"
    }
   ],
   "source": [
    "import numpy as np\n",
    "\n",
    "buf = np.array(line, dtype=float)\n",
    "buf"
   ]
  },
  {
   "cell_type": "code",
   "execution_count": 52,
   "id": "informative-citizenship",
   "metadata": {},
   "outputs": [],
   "source": [
    "def softmax(a):\n",
    "    c = np.max(a)\n",
    "    exp_a = np.exp(a - c)\n",
    "    sum_exp = np.sum(exp_a)\n",
    "    print(exp_a, sum_exp)\n",
    "#     y = (exp_a / sum_exp) - (exp_a / sum_exp) % 0.0000001\n",
    "    y = exp_a / sum_exp\n",
    "    \n",
    "    return y"
   ]
  },
  {
   "cell_type": "code",
   "execution_count": 53,
   "id": "signed-routine",
   "metadata": {},
   "outputs": [],
   "source": [
    "def minmax(a):\n",
    "    c = np.max(a)\n",
    "    y = (a / c) - (a / c) % 0.6\n",
    "    \n",
    "    return y"
   ]
  },
  {
   "cell_type": "code",
   "execution_count": 54,
   "id": "premium-spirit",
   "metadata": {},
   "outputs": [
    {
     "data": {
      "text/plain": [
       "array([18.3, 18.6, 18.7, 18.4, 18.8, 18.8, 18.8, 18.8, 18.9, 18.9, 18.9,\n",
       "       19. , 19.1, 18.9, 19.1, 19.1, 19.3, 19.4, 19.5, 19.3, 19.4, 19.4,\n",
       "       19.3, 19.4, 19.4, 19.5, 19.9, 20.7, 20.8, 20.7, 20.7, 20.1, 19.7,\n",
       "       19.5, 19.3, 19.3, 19.6, 19.5, 19.5, 19.5, 19.6, 19.6, 19.4, 19.6,\n",
       "       19.6, 19.7, 19.6, 19.6, 19.9, 19.7, 19.8, 19.7, 19.8, 19.7, 19.8,\n",
       "       19.7, 19.8, 19.9, 20. , 20.1, 20.7, 21.3, 21.1, 20.5, 19.2, 18.9,\n",
       "       19. , 19.2, 19.6, 19.7, 19.4, 19. , 19.1, 19.1, 19.1, 19.1, 19.1,\n",
       "       19.2, 19.2, 18.9, 19.2, 19. , 19. , 19. , 19. , 19. , 18.7, 18.8,\n",
       "       18.6, 18.5, 18.4, 18.6, 18.9, 18.7, 20.1, 21.2, 22.3, 23.2, 23.2,\n",
       "       23.1, 23.2, 23.4, 23.7, 24.1, 24.2, 25.1, 25. , 25.7, 25.6, 25.8,\n",
       "       26.1, 26.7, 28.2, 28.9, 29.2, 29.5, 29.6, 29.6, 29.7, 29.8])"
      ]
     },
     "execution_count": 54,
     "metadata": {},
     "output_type": "execute_result"
    }
   ],
   "source": [
    "buf[10]"
   ]
  },
  {
   "cell_type": "code",
   "execution_count": 55,
   "id": "present-memorabilia",
   "metadata": {},
   "outputs": [
    {
     "data": {
      "text/plain": [
       "array([0. , 0. , 0. , 0. , 0. , 0. , 0. , 0. , 0. , 0. , 0. , 0. , 0. ,\n",
       "       0. , 0. , 0. , 0. , 0. , 0. , 0. , 0. , 0. , 0. , 0. , 0. , 0. ,\n",
       "       0. , 0. , 0. , 0. , 0. , 0. , 0. , 0. , 0. , 0. , 0. , 0. , 0. ,\n",
       "       0. , 0. , 0. , 0. , 0. , 0. , 0. , 0. , 0. , 0. , 0. , 0. , 0. ,\n",
       "       0. , 0. , 0. , 0. , 0. , 0. , 0. , 0. , 0. , 0. , 0. , 0. , 0. ,\n",
       "       0. , 0. , 0. , 0. , 0. , 0. , 0. , 0. , 0. , 0. , 0. , 0. , 0. ,\n",
       "       0. , 0. , 0. , 0. , 0. , 0. , 0. , 0. , 0. , 0. , 0. , 0. , 0. ,\n",
       "       0. , 0. , 0. , 0. , 0. , 0. , 0. , 0. , 0. , 0. , 0.6, 0.6, 0.6,\n",
       "       0.6, 0.6, 0.6, 0.6, 0.6, 0.6, 0.6, 0.6, 0.6, 0.6, 0.6, 0.6, 0.6,\n",
       "       0.6, 0.6, 0.6])"
      ]
     },
     "execution_count": 55,
     "metadata": {},
     "output_type": "execute_result"
    }
   ],
   "source": [
    "y = minmax(buf)\n",
    "y[10]"
   ]
  },
  {
   "cell_type": "code",
   "execution_count": 14,
   "id": "retired-format",
   "metadata": {},
   "outputs": [],
   "source": [
    "import pandas as pd\n",
    "\n",
    "df = pd.DataFrame(y)\n",
    "df.to_csv(\"sample.csv\", header=False, index=False)"
   ]
  },
  {
   "cell_type": "code",
   "execution_count": 15,
   "id": "chubby-cancellation",
   "metadata": {},
   "outputs": [
    {
     "data": {
      "text/plain": [
       "array([[1.        , 0.99180328, 0.96825397, ..., 1.        , 1.        ,\n",
       "        1.        ],\n",
       "       [0.98360656, 0.98360656, 0.92063492, ..., 1.        , 0.97674419,\n",
       "        1.        ],\n",
       "       [0.96721311, 0.99180328, 0.91269841, ..., 0.97777778, 0.97674419,\n",
       "        0.97619048],\n",
       "       ...,\n",
       "       [0.05737705, 0.03278689, 0.05555556, ..., 0.71111111, 0.69767442,\n",
       "        0.71428571],\n",
       "       [0.        , 0.02459016, 0.        , ..., 0.66666667, 0.72093023,\n",
       "        0.71428571],\n",
       "       [0.00819672, 0.        , 0.03968254, ..., 0.68888889, 0.69767442,\n",
       "        0.69047619]])"
      ]
     },
     "execution_count": 15,
     "metadata": {},
     "output_type": "execute_result"
    }
   ],
   "source": [
    "from sklearn.preprocessing import MinMaxScaler\n",
    "\n",
    "scaler = MinMaxScaler()\n",
    "# scaler = StandardScaler()\n",
    "# scaler = RobusterScaler()\n",
    "# scaler = MaxAbsScaler()\n",
    "\n",
    "scaler.fit(line)\n",
    "x_train = scaler.transform(line)\n",
    "x_train"
   ]
  },
  {
   "cell_type": "code",
   "execution_count": 56,
   "id": "undefined-arkansas",
   "metadata": {},
   "outputs": [
    {
     "data": {
      "text/plain": [
       "<matplotlib.image.AxesImage at 0x2278f75dc08>"
      ]
     },
     "execution_count": 56,
     "metadata": {},
     "output_type": "execute_result"
    },
    {
     "data": {
      "image/png": "[encoded data removed]",
      "text/plain": [
       "<Figure size 432x288 with 1 Axes>"
      ]
     },
     "metadata": {
      "needs_background": "light"
     },
     "output_type": "display_data"
    }
   ],
   "source": [
    "import matplotlib.pyplot as plt\n",
    "import numpy as np\n",
    "\n",
    "fig = plt.figure()\n",
    "ax1 = fig.add_subplot(1, 1, 1)\n",
    "# buf = np.array(x_train, dtype=float)\n",
    "ax1.imshow(y,cmap = 'jet',animated = True)"
   ]
  },
  {
   "cell_type": "code",
   "execution_count": null,
   "id": "disabled-thinking",
   "metadata": {},
   "outputs": [],
   "source": []
  }
 ],
 "metadata": {
  "kernelspec": {
   "display_name": "Python [conda env:project1] *",
   "language": "python",
   "name": "conda-env-project1-py"
  },
  "language_info": {
   "codemirror_mode": {
    "name": "ipython",
    "version": 3
   },
   "file_extension": ".py",
   "mimetype": "text/x-python",
   "name": "python",
   "nbconvert_exporter": "python",
   "pygments_lexer": "ipython3",
   "version": "3.7.9"
  }
 },
 "nbformat": 4,
 "nbformat_minor": 5
}
