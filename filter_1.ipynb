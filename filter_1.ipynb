{
 "cells": [
  {
   "cell_type": "code",
   "execution_count": 2,
   "id": "cooperative-little",
   "metadata": {},
   "outputs": [],
   "source": [
    "import pandas as pd\n",
    "import numpy as np"
   ]
  },
  {
   "cell_type": "code",
   "execution_count": 55,
   "id": "secondary-lotus",
   "metadata": {},
   "outputs": [],
   "source": [
    "# for i, file in enumerate(pd.read_csv('062951_(21_66_84_94)(87_126)_36.1.txt', delimiter = '\\t', header=None, chunksize=160)):\n",
    "#     if (i == 0):\n",
    "#         tmp = file\n",
    "#     else:\n",
    "#         tmp2 = file\n",
    "# tmp\n",
    "# for t in tmp:\n",
    "#     print(t)"
   ]
  },
  {
   "cell_type": "code",
   "execution_count": 94,
   "id": "opponent-commons",
   "metadata": {},
   "outputs": [],
   "source": [
    "# a = np.loadtxt('062951_(21_66_84_94)(87_126)_36.1.txt', delimiter=',')\n",
    "# print(a)"
   ]
  },
  {
   "cell_type": "code",
   "execution_count": 170,
   "id": "bronze-hungarian",
   "metadata": {},
   "outputs": [],
   "source": [
    "f = open('062951_(21_66_84_94)(87_126)_36.1.txt','r')\n",
    "lines = f.readlines()\n",
    "line = []\n",
    "for i, d in enumerate(lines):\n",
    "    tmp = lines[i].split(' ')\n",
    "    if (i == 320):\n",
    "        tmep = tmp[0]\n",
    "    if (i == 0 or len(tmp) < 100): continue\n",
    "    line.append(tmp[:120])\n",
    "# line"
   ]
  },
  {
   "cell_type": "code",
   "execution_count": 130,
   "id": "large-pressing",
   "metadata": {},
   "outputs": [],
   "source": [
    "def minmax(a):\n",
    "    c = np.max(a)\n",
    "    y = (a / c) - (a / c) % 0.6\n",
    "    \n",
    "    return y"
   ]
  },
  {
   "cell_type": "code",
   "execution_count": 162,
   "id": "scientific-realtor",
   "metadata": {
    "scrolled": true
   },
   "outputs": [
    {
     "name": "stdout",
     "output_type": "stream",
     "text": [
      "427\n",
      "711\n",
      "1135\n",
      "1599\n",
      "1599\n",
      "1599\n",
      "2026\n",
      "2320\n",
      "2607\n",
      "2885\n",
      "2934\n",
      "2934\n",
      "2934\n",
      "3303\n",
      "3632\n",
      "3961\n",
      "4364\n",
      "4820\n",
      "4833\n"
     ]
    }
   ],
   "source": [
    "# Real image\n",
    "import glob\n",
    "import numpy as np\n",
    "\n",
    "foldername = []\n",
    "\n",
    "for i in range(20201201, 20201220):\n",
    "    foldername.append(str(i))\n",
    "    \n",
    "x_train = []\n",
    "x_label = []\n",
    "path = r'D:\\conda\\image'\n",
    "for day in foldername:\n",
    "    filenames = glob.glob(path + '\\\\' + day + \"/*.txt\")\n",
    "    for filename in filenames:\n",
    "        if (len(filename) < 50): continue\n",
    "        f = open(filename, 'r', errors='ignore')\n",
    "        lines = f.readlines()\n",
    "        line = []\n",
    "        for i, d in enumerate(lines):\n",
    "            tmp = lines[i].split(' ')\n",
    "            if (i == 320):\n",
    "                temp = tmp[0]\n",
    "            if (i < 100 or len(tmp) < 100): continue\n",
    "            line.append(tmp[:120])\n",
    "\n",
    "\n",
    "#         buf = np.array(line, dtype=float)\n",
    "#         y = minmax(buf)\n",
    "        \n",
    "#         x_train.append(y)\n",
    "        x_train.append(line)\n",
    "        x_label.append(1)\n",
    "#         x_label.append(round(float(temp)))\n",
    "    print(len(x_train))"
   ]
  },
  {
   "cell_type": "code",
   "execution_count": 411,
   "id": "auburn-diploma",
   "metadata": {},
   "outputs": [
    {
     "name": "stdout",
     "output_type": "stream",
     "text": [
      "395\n",
      "551\n"
     ]
    },
    {
     "ename": "OSError",
     "evalue": "[Errno 22] Invalid argument: '\\\\\\\\81.7.121.172\\\\web\\\\BTSM\\\\data\\\\에스원(본사)\\\\2층_1(좌)\\\\20210203\\\\210203.txt'",
     "output_type": "error",
     "traceback": [
      "\u001b[1;31m---------------------------------------------------------------------------\u001b[0m",
      "\u001b[1;31mOSError\u001b[0m                                   Traceback (most recent call last)",
      "\u001b[1;32m<ipython-input-411-3884b3f59d9d>\u001b[0m in \u001b[0;36m<module>\u001b[1;34m\u001b[0m\n\u001b[0;32m     19\u001b[0m         \u001b[1;32mfor\u001b[0m \u001b[0mfilename\u001b[0m \u001b[1;32min\u001b[0m \u001b[0mfilenames\u001b[0m\u001b[1;33m:\u001b[0m\u001b[1;33m\u001b[0m\u001b[1;33m\u001b[0m\u001b[0m\n\u001b[0;32m     20\u001b[0m             \u001b[1;32mif\u001b[0m \u001b[1;33m(\u001b[0m\u001b[0mlen\u001b[0m\u001b[1;33m(\u001b[0m\u001b[0mfilename\u001b[0m\u001b[1;33m)\u001b[0m \u001b[1;33m<\u001b[0m \u001b[1;36m20\u001b[0m\u001b[1;33m)\u001b[0m\u001b[1;33m:\u001b[0m \u001b[1;32mcontinue\u001b[0m\u001b[1;33m\u001b[0m\u001b[1;33m\u001b[0m\u001b[0m\n\u001b[1;32m---> 21\u001b[1;33m             \u001b[0mf\u001b[0m \u001b[1;33m=\u001b[0m \u001b[0mopen\u001b[0m\u001b[1;33m(\u001b[0m\u001b[0mfilename\u001b[0m\u001b[1;33m,\u001b[0m \u001b[1;34m'r'\u001b[0m\u001b[1;33m,\u001b[0m \u001b[0merrors\u001b[0m\u001b[1;33m=\u001b[0m\u001b[1;34m'ignore'\u001b[0m\u001b[1;33m)\u001b[0m\u001b[1;33m\u001b[0m\u001b[1;33m\u001b[0m\u001b[0m\n\u001b[0m\u001b[0;32m     22\u001b[0m             \u001b[0mlines\u001b[0m \u001b[1;33m=\u001b[0m \u001b[0mf\u001b[0m\u001b[1;33m.\u001b[0m\u001b[0mreadlines\u001b[0m\u001b[1;33m(\u001b[0m\u001b[1;33m)\u001b[0m\u001b[1;33m\u001b[0m\u001b[1;33m\u001b[0m\u001b[0m\n\u001b[0;32m     23\u001b[0m             \u001b[0mline\u001b[0m \u001b[1;33m=\u001b[0m \u001b[1;33m[\u001b[0m\u001b[1;33m]\u001b[0m\u001b[1;33m\u001b[0m\u001b[1;33m\u001b[0m\u001b[0m\n",
      "\u001b[1;31mOSError\u001b[0m: [Errno 22] Invalid argument: '\\\\\\\\81.7.121.172\\\\web\\\\BTSM\\\\data\\\\에스원(본사)\\\\2층_1(좌)\\\\20210203\\\\210203.txt'"
     ]
    }
   ],
   "source": [
    "# Real image\n",
    "import glob\n",
    "\n",
    "foldername = []\n",
    "\n",
    "for i in range(20210201, 20210226):\n",
    "    foldername.append(str(i))\n",
    "    \n",
    "x_train = []\n",
    "x_label = []\n",
    "\n",
    "# floors = ['2층_1(좌)', '2층_2', '2층_3', '2층_4(우)']\n",
    "floors = ['2층_1(좌)', '2층_2']\n",
    "\n",
    "path = r'\\\\81.7.121.172\\web\\BTSM\\data\\에스원(본사)'\n",
    "for floor in floors:\n",
    "    for day in foldername:\n",
    "        filenames = glob.glob(path + '\\\\'+ floor + '\\\\' + day + \"/*.txt\")\n",
    "        for filename in filenames:\n",
    "            if (len(filename) < 50): continue\n",
    "            f = open(filename, 'r', errors='ignore')\n",
    "            lines = f.readlines()\n",
    "            line = []\n",
    "            for i, d in enumerate(lines):\n",
    "                tmp = lines[i].split(' ')\n",
    "                if (i == 320):\n",
    "                    tmep = tmp[0]\n",
    "                if (i < 100 or len(tmp) < 100): continue\n",
    "                line.append(tmp[:120])\n",
    "            x_train.append(line)\n",
    "            x_label.append(1)\n",
    "        print(len(x_train))\n",
    "    print()"
   ]
  },
  {
   "cell_type": "code",
   "execution_count": 163,
   "id": "occupied-refrigerator",
   "metadata": {},
   "outputs": [
    {
     "name": "stdout",
     "output_type": "stream",
     "text": [
      "481\n"
     ]
    }
   ],
   "source": [
    "# Fake image\n",
    "import glob\n",
    "\n",
    "foldername = ['5. FAKE_photo']\n",
    "\n",
    "path = r'D:\\conda\\image\\fake'\n",
    "y_train = []\n",
    "y_label = []\n",
    "for name in foldername:\n",
    "    filenames = glob.glob(path + '\\\\' + name + \"/*.txt\")\n",
    "    for filename in filenames:\n",
    "        if (len(filename) < 50): continue\n",
    "        f = open(filename, 'r', errors='ignore')\n",
    "        lines = f.readlines()\n",
    "        line = []\n",
    "        for i, d in enumerate(lines):\n",
    "            tmp = lines[i].split(' ')\n",
    "            if (i < 100 or len(tmp) < 100): continue\n",
    "            line.append(tmp[:120])\n",
    "            \n",
    "#         buf = np.array(line, dtype=float)\n",
    "#         y = minmax(buf)\n",
    "        \n",
    "        y_train.append(line)\n",
    "        y_label.append(0)\n",
    "    print(len(y_train))"
   ]
  },
  {
   "cell_type": "code",
   "execution_count": 164,
   "id": "serial-nerve",
   "metadata": {},
   "outputs": [
    {
     "name": "stdout",
     "output_type": "stream",
     "text": [
      "344\n"
     ]
    }
   ],
   "source": [
    "# Test image\n",
    "import glob\n",
    "\n",
    "path = r'D:\\conda\\image\\test'\n",
    "test_train = []\n",
    "test_label = []\n",
    "filenames = glob.glob(path + \"/*.txt\")\n",
    "for filename in filenames:\n",
    "    f = open(filename, 'r', errors='ignore')\n",
    "    lines = f.readlines()\n",
    "    line = []\n",
    "    for i, d in enumerate(lines):\n",
    "        tmp = lines[i].split(' ')\n",
    "        if (i < 100 or len(tmp) < 100): continue\n",
    "        line.append(tmp[:120])\n",
    "        \n",
    "#     buf = np.array(line, dtype=float)\n",
    "#     y = minmax(buf)\n",
    "\n",
    "    test_train.append(line)\n",
    "    test_label.append(1)\n",
    "print(len(test_train))"
   ]
  },
  {
   "cell_type": "code",
   "execution_count": 165,
   "id": "twelve-status",
   "metadata": {},
   "outputs": [
    {
     "data": {
      "text/plain": [
       "110"
      ]
     },
     "execution_count": 165,
     "metadata": {},
     "output_type": "execute_result"
    }
   ],
   "source": [
    "len(x_train[0])"
   ]
  },
  {
   "cell_type": "code",
   "execution_count": 166,
   "id": "seeing-consortium",
   "metadata": {},
   "outputs": [
    {
     "data": {
      "text/plain": [
       "110"
      ]
     },
     "execution_count": 166,
     "metadata": {},
     "output_type": "execute_result"
    }
   ],
   "source": [
    "len(y_train[0])"
   ]
  },
  {
   "cell_type": "code",
   "execution_count": 167,
   "id": "strong-tuner",
   "metadata": {},
   "outputs": [
    {
     "data": {
      "text/plain": [
       "array([20.1, 20.1, 20.3, 20.3, 20.3, 20.4, 20.4, 20.5, 20.5, 20.5, 20.5,\n",
       "       20.5, 20.6, 20.6, 20.6, 20.6, 20.6, 20.7, 20.8, 20.8, 20.9, 20.9,\n",
       "       20.8, 20.8, 20.7, 20.8, 20.9, 21. , 20.9, 20.8, 20.7, 20.9, 20.9,\n",
       "       21. , 20.8, 21. , 21.1, 21.1, 21.1, 21.2, 21.6, 22.7, 23. , 22.3,\n",
       "       21.9, 22.1, 22.4, 23. , 23.9, 24.3, 24.8, 25.1, 25.5, 25.3, 25.1,\n",
       "       25.1, 25.1, 25.3, 25.1, 25. , 24.8, 24.5, 25.1, 25.5, 25.5, 25.3,\n",
       "       25. , 24.5, 24. , 24.4, 24.5, 24.7, 24.8, 24.8, 24.9, 25.1, 25. ,\n",
       "       24.9, 24.7, 24.5, 24.1, 23.7, 23.1, 23.2, 23.1, 23.4, 23.3, 23.2,\n",
       "       23. , 22.9, 22.9, 22.9, 22.9, 23. , 23. , 23.3, 23.4, 23.9, 23.9,\n",
       "       24.3, 24.3, 24.6, 24.4, 24.1, 23.9, 23.6, 23.4, 23.2, 23. , 22.9,\n",
       "       22.8, 22.6, 22.5, 22.3, 22.1, 22.1, 21.9, 22. , 21.8, 21.5],\n",
       "      dtype=float32)"
      ]
     },
     "execution_count": 167,
     "metadata": {},
     "output_type": "execute_result"
    }
   ],
   "source": [
    "x_train1 = np.array(x_train, dtype='float32')\n",
    "x_train1.shape"
   ]
  },
  {
   "cell_type": "code",
   "execution_count": 168,
   "id": "prospective-lottery",
   "metadata": {},
   "outputs": [
    {
     "data": {
      "text/plain": [
       "(481, 110, 120)"
      ]
     },
     "execution_count": 168,
     "metadata": {},
     "output_type": "execute_result"
    }
   ],
   "source": [
    "y_train1 = np.array(y_train, dtype='float32')\n",
    "y_train1.shape\n",
    "# y_train1[0]"
   ]
  },
  {
   "cell_type": "code",
   "execution_count": 169,
   "id": "general-belly",
   "metadata": {},
   "outputs": [
    {
     "data": {
      "text/plain": [
       "(5314, 110, 120)"
      ]
     },
     "execution_count": 169,
     "metadata": {},
     "output_type": "execute_result"
    }
   ],
   "source": [
    "train_data = np.concatenate((x_train1, y_train1), axis = 0)\n",
    "train_data.shape"
   ]
  },
  {
   "cell_type": "code",
   "execution_count": 170,
   "id": "eligible-finding",
   "metadata": {},
   "outputs": [
    {
     "data": {
      "text/plain": [
       "(5314,)"
      ]
     },
     "execution_count": 170,
     "metadata": {},
     "output_type": "execute_result"
    }
   ],
   "source": [
    "x_label1 = np.array(x_label, dtype='float32')\n",
    "y_label1 = np.array(y_label, dtype='float32')\n",
    "\n",
    "train_label = np.concatenate((x_label1, y_label1), axis = 0)\n",
    "train_label.shape"
   ]
  },
  {
   "cell_type": "code",
   "execution_count": 171,
   "id": "metric-condition",
   "metadata": {},
   "outputs": [
    {
     "data": {
      "text/plain": [
       "(344, 110, 120)"
      ]
     },
     "execution_count": 171,
     "metadata": {},
     "output_type": "execute_result"
    }
   ],
   "source": [
    "test_data = np.array(test_train, dtype='float32')\n",
    "test_label = np.array(test_label, dtype='float32')\n",
    "test_data.shape"
   ]
  },
  {
   "cell_type": "code",
   "execution_count": 172,
   "id": "running-ireland",
   "metadata": {},
   "outputs": [],
   "source": [
    "train_data = train_data.reshape((5314, 110*120))\n",
    "train_data = train_data.astype('float32') / 255\n",
    "\n",
    "test_data = test_data.reshape((344, 110*120))\n",
    "test_data = test_data.astype('float32') / 255"
   ]
  },
  {
   "cell_type": "code",
   "execution_count": 173,
   "id": "characteristic-hayes",
   "metadata": {},
   "outputs": [],
   "source": [
    "from tensorflow.keras import models, layers\n",
    "\n",
    "model = models.Sequential()\n",
    "model.add(layers.Dense(512, activation='relu', input_shape=(110 * 120,)))\n",
    "model.add(layers.Dense(128, activation='relu'))\n",
    "model.add(layers.Dense(32, activation='relu'))\n",
    "model.add(layers.Dense(8, activation='relu'))\n",
    "model.add(layers.Dense(1, activation='sigmoid'))\n",
    "# 마지막 계층에 단일 노드로 하고 이진 분류 설정을 할 경우 마지막 레이어에 대한 모델은 sigmoid를 이용."
   ]
  },
  {
   "cell_type": "code",
   "execution_count": 174,
   "id": "restricted-passing",
   "metadata": {
    "scrolled": true
   },
   "outputs": [
    {
     "name": "stdout",
     "output_type": "stream",
     "text": [
      "Model: \"sequential_15\"\n",
      "_________________________________________________________________\n",
      "Layer (type)                 Output Shape              Param #   \n",
      "=================================================================\n",
      "dense_57 (Dense)             (None, 512)               6758912   \n",
      "_________________________________________________________________\n",
      "dense_58 (Dense)             (None, 128)               65664     \n",
      "_________________________________________________________________\n",
      "dense_59 (Dense)             (None, 32)                4128      \n",
      "_________________________________________________________________\n",
      "dense_60 (Dense)             (None, 8)                 264       \n",
      "_________________________________________________________________\n",
      "dense_61 (Dense)             (None, 1)                 9         \n",
      "=================================================================\n",
      "Total params: 6,828,977\n",
      "Trainable params: 6,828,977\n",
      "Non-trainable params: 0\n",
      "_________________________________________________________________\n"
     ]
    }
   ],
   "source": [
    "from tensorflow.keras import optimizers\n",
    "model.compile(optimizer='rmsprop',\n",
    "               loss='binary_crossentropy',\n",
    "               metrics=['acc'])\n",
    "model.summary()"
   ]
  },
  {
   "cell_type": "code",
   "execution_count": 175,
   "id": "familiar-crowd",
   "metadata": {},
   "outputs": [
    {
     "name": "stdout",
     "output_type": "stream",
     "text": [
      "Epoch 1/10\n",
      "167/167 [==============================] - 8s 49ms/step - loss: 0.2827 - acc: 0.9048\n",
      "Epoch 2/10\n",
      "167/167 [==============================] - 8s 49ms/step - loss: 0.1595 - acc: 0.9210\n",
      "Epoch 3/10\n",
      "167/167 [==============================] - 8s 49ms/step - loss: 0.1230 - acc: 0.9358\n",
      "Epoch 4/10\n",
      "167/167 [==============================] - 8s 49ms/step - loss: 0.1128 - acc: 0.9528\n",
      "Epoch 5/10\n",
      "167/167 [==============================] - 8s 48ms/step - loss: 0.1035 - acc: 0.9543\n",
      "Epoch 6/10\n",
      "167/167 [==============================] - 9s 52ms/step - loss: 0.0960 - acc: 0.9607\n",
      "Epoch 7/10\n",
      "167/167 [==============================] - 8s 49ms/step - loss: 0.0857 - acc: 0.9639\n",
      "Epoch 8/10\n",
      "167/167 [==============================] - 8s 49ms/step - loss: 0.0677 - acc: 0.9720\n",
      "Epoch 9/10\n",
      "167/167 [==============================] - 8s 50ms/step - loss: 0.0654 - acc: 0.9776\n",
      "Epoch 10/10\n",
      "167/167 [==============================] - 8s 49ms/step - loss: 0.0589 - acc: 0.9774\n"
     ]
    }
   ],
   "source": [
    "history = model.fit(train_data, train_label, epochs=10, batch_size=32)"
   ]
  },
  {
   "cell_type": "code",
   "execution_count": 176,
   "id": "molecular-subscription",
   "metadata": {},
   "outputs": [
    {
     "data": {
      "text/plain": [
       "dict_keys(['loss', 'acc'])"
      ]
     },
     "execution_count": 176,
     "metadata": {},
     "output_type": "execute_result"
    }
   ],
   "source": [
    "history_dict = history.history\n",
    "history_dict.keys()"
   ]
  },
  {
   "cell_type": "code",
   "execution_count": 177,
   "id": "forward-tenant",
   "metadata": {},
   "outputs": [
    {
     "data": {
      "image/png": "[encoded data removed]",
      "text/plain": [
       "<Figure size 432x288 with 1 Axes>"
      ]
     },
     "metadata": {
      "needs_background": "light"
     },
     "output_type": "display_data"
    }
   ],
   "source": [
    "import matplotlib.pyplot as plt\n",
    "\n",
    "plt.clf()\n",
    "acc_values = history_dict['acc']\n",
    "epochs = range(1, len(history_dict['acc']) + 1)\n",
    "\n",
    "plt.plot(epochs, acc_values, 'bo', label='Training acc')\n",
    "plt.title('Training accuracy')\n",
    "plt.xlabel('Epochs')\n",
    "plt.ylabel('Loss')\n",
    "plt.legend()\n",
    "\n",
    "plt.show()"
   ]
  },
  {
   "cell_type": "code",
   "execution_count": 178,
   "id": "revolutionary-enforcement",
   "metadata": {},
   "outputs": [
    {
     "name": "stdout",
     "output_type": "stream",
     "text": [
      "11/11 [==============================] - 0s 3ms/step - loss: 0.0228 - acc: 0.9913\n"
     ]
    },
    {
     "data": {
      "text/plain": [
       "[0.022829139605164528, 0.9912790656089783]"
      ]
     },
     "execution_count": 178,
     "metadata": {},
     "output_type": "execute_result"
    }
   ],
   "source": [
    "results = model.evaluate(test_data, test_label)\n",
    "results"
   ]
  },
  {
   "cell_type": "code",
   "execution_count": null,
   "id": "forward-trinidad",
   "metadata": {},
   "outputs": [],
   "source": []
  }
 ],
 "metadata": {
  "kernelspec": {
   "display_name": "Python [conda env:project1] *",
   "language": "python",
   "name": "conda-env-project1-py"
  },
  "language_info": {
   "codemirror_mode": {
    "name": "ipython",
    "version": 3
   },
   "file_extension": ".py",
   "mimetype": "text/x-python",
   "name": "python",
   "nbconvert_exporter": "python",
   "pygments_lexer": "ipython3",
   "version": "3.7.9"
  }
 },
 "nbformat": 4,
 "nbformat_minor": 5
}
